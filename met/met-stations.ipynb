{
 "cells": [
  {
   "cell_type": "markdown",
   "metadata": {},
   "source": [
    "# Met stations"
   ]
  },
  {
   "cell_type": "code",
   "execution_count": 1,
   "metadata": {},
   "outputs": [],
   "source": [
    "import os\n",
    "from datetime import datetime, timezone\n",
    "import geopandas as gpd\n",
    "import matplotlib.pyplot as plt\n",
    "from matplotlib import ticker\n",
    "import pandas as pd\n",
    "import climag.plot_configs as cplt\n",
    "from climag.download_data import download_data"
   ]
  },
  {
   "cell_type": "code",
   "execution_count": 2,
   "metadata": {},
   "outputs": [
    {
     "name": "stdout",
     "output_type": "stream",
     "text": [
      "Last updated: 2022-10-19 11:12:57.102568+00:00\n"
     ]
    }
   ],
   "source": [
    "print(\"Last updated:\", datetime.now(tz=timezone.utc))"
   ]
  },
  {
   "cell_type": "markdown",
   "metadata": {},
   "source": [
    "## Met Éireann stations\n",
    "\n",
    "- Station details can be found here:\n",
    "  <https://cli.fusio.net/cli/climate_data/webdata/StationDetails.csv>\n",
    "- <https://www.met.ie/climate/weather-observing-stations>\n",
    "- Check the \"Show closed stations\" box to obtain data for this replaced\n",
    "  station: <https://www.met.ie/climate/available-data/historical-data>"
   ]
  },
  {
   "cell_type": "code",
   "execution_count": 3,
   "metadata": {},
   "outputs": [],
   "source": [
    "URL = \"https://cli.fusio.net/cli/climate_data/webdata/StationDetails.csv\"\n",
    "SUB_DIR = os.path.join(\"data\", \"met\", \"meteireann\", \"raw\")"
   ]
  },
  {
   "cell_type": "code",
   "execution_count": 23,
   "metadata": {},
   "outputs": [
    {
     "name": "stdout",
     "output_type": "stream",
     "text": [
      "Data successfully downloaded to data/met/meteireann/raw \n",
      "Last downloaded: 2022-10-12 15:19:58.437123+00:00\n"
     ]
    }
   ],
   "source": [
    "# download data if necessary\n",
    "download_data(server=URL, dl_dir=SUB_DIR)"
   ]
  },
  {
   "cell_type": "code",
   "execution_count": 4,
   "metadata": {},
   "outputs": [
    {
     "data": {
      "text/plain": [
       "['corkairport', 'moorepark', 'StationDetails.csv']"
      ]
     },
     "execution_count": 4,
     "metadata": {},
     "output_type": "execute_result"
    }
   ],
   "source": [
    "os.listdir(SUB_DIR)"
   ]
  },
  {
   "cell_type": "code",
   "execution_count": 5,
   "metadata": {},
   "outputs": [],
   "source": [
    "stations_roi = pd.read_csv(os.path.join(SUB_DIR, \"StationDetails.csv\"))"
   ]
  },
  {
   "cell_type": "code",
   "execution_count": 6,
   "metadata": {},
   "outputs": [
    {
     "data": {
      "text/plain": [
       "(2083, 10)"
      ]
     },
     "execution_count": 6,
     "metadata": {},
     "output_type": "execute_result"
    }
   ],
   "source": [
    "stations_roi.shape"
   ]
  },
  {
   "cell_type": "code",
   "execution_count": 7,
   "metadata": {},
   "outputs": [
    {
     "data": {
      "text/html": [
       "<div>\n",
       "<style scoped>\n",
       "    .dataframe tbody tr th:only-of-type {\n",
       "        vertical-align: middle;\n",
       "    }\n",
       "\n",
       "    .dataframe tbody tr th {\n",
       "        vertical-align: top;\n",
       "    }\n",
       "\n",
       "    .dataframe thead th {\n",
       "        text-align: right;\n",
       "    }\n",
       "</style>\n",
       "<table border=\"1\" class=\"dataframe\">\n",
       "  <thead>\n",
       "    <tr style=\"text-align: right;\">\n",
       "      <th></th>\n",
       "      <th>county</th>\n",
       "      <th>station name</th>\n",
       "      <th>name</th>\n",
       "      <th>height(m)</th>\n",
       "      <th>easting</th>\n",
       "      <th>northing</th>\n",
       "      <th>latitude</th>\n",
       "      <th>longitude</th>\n",
       "      <th>open year</th>\n",
       "      <th>close year</th>\n",
       "    </tr>\n",
       "  </thead>\n",
       "  <tbody>\n",
       "    <tr>\n",
       "      <th>0</th>\n",
       "      <td>Antrim</td>\n",
       "      <td>5880</td>\n",
       "      <td>LH_RATHLIN_WEST</td>\n",
       "      <td>10</td>\n",
       "      <td>309200</td>\n",
       "      <td>451800</td>\n",
       "      <td>55.30083</td>\n",
       "      <td>-6.28028</td>\n",
       "      <td>2000</td>\n",
       "      <td>(null)</td>\n",
       "    </tr>\n",
       "    <tr>\n",
       "      <th>1</th>\n",
       "      <td>Carlow</td>\n",
       "      <td>4415</td>\n",
       "      <td>TULLOW (Waterworks)</td>\n",
       "      <td>76</td>\n",
       "      <td>284700</td>\n",
       "      <td>173400</td>\n",
       "      <td>52.80528</td>\n",
       "      <td>-6.74306</td>\n",
       "      <td>1985</td>\n",
       "      <td>(null)</td>\n",
       "    </tr>\n",
       "    <tr>\n",
       "      <th>2</th>\n",
       "      <td>Carlow</td>\n",
       "      <td>2414</td>\n",
       "      <td>BORRIS G.S.</td>\n",
       "      <td>85</td>\n",
       "      <td>272400</td>\n",
       "      <td>150700</td>\n",
       "      <td>52.60278</td>\n",
       "      <td>-6.93056</td>\n",
       "      <td>1944</td>\n",
       "      <td>1991</td>\n",
       "    </tr>\n",
       "    <tr>\n",
       "      <th>3</th>\n",
       "      <td>Carlow</td>\n",
       "      <td>1214</td>\n",
       "      <td>CARLOW (SUGAR FACTORY)</td>\n",
       "      <td>58</td>\n",
       "      <td>272200</td>\n",
       "      <td>178400</td>\n",
       "      <td>52.85139</td>\n",
       "      <td>-6.92778</td>\n",
       "      <td>1953</td>\n",
       "      <td>1960</td>\n",
       "    </tr>\n",
       "    <tr>\n",
       "      <th>4</th>\n",
       "      <td>Carlow</td>\n",
       "      <td>115</td>\n",
       "      <td>HACKETSTOWN RECTORY</td>\n",
       "      <td>182</td>\n",
       "      <td>297600</td>\n",
       "      <td>180500</td>\n",
       "      <td>52.86667</td>\n",
       "      <td>-6.55000</td>\n",
       "      <td>1910</td>\n",
       "      <td>1944</td>\n",
       "    </tr>\n",
       "  </tbody>\n",
       "</table>\n",
       "</div>"
      ],
      "text/plain": [
       "   county  station name                    name  height(m)  easting  northing  \\\n",
       "0  Antrim          5880         LH_RATHLIN_WEST         10   309200    451800   \n",
       "1  Carlow          4415     TULLOW (Waterworks)         76   284700    173400   \n",
       "2  Carlow          2414             BORRIS G.S.         85   272400    150700   \n",
       "3  Carlow          1214  CARLOW (SUGAR FACTORY)         58   272200    178400   \n",
       "4  Carlow           115     HACKETSTOWN RECTORY        182   297600    180500   \n",
       "\n",
       "   latitude  longitude open year close year  \n",
       "0  55.30083   -6.28028      2000     (null)  \n",
       "1  52.80528   -6.74306      1985     (null)  \n",
       "2  52.60278   -6.93056      1944       1991  \n",
       "3  52.85139   -6.92778      1953       1960  \n",
       "4  52.86667   -6.55000      1910       1944  "
      ]
     },
     "execution_count": 7,
     "metadata": {},
     "output_type": "execute_result"
    }
   ],
   "source": [
    "stations_roi.head()"
   ]
  },
  {
   "cell_type": "code",
   "execution_count": 8,
   "metadata": {},
   "outputs": [],
   "source": [
    "# convert coordinates to well known text\n",
    "stations_roi[\"wkt\"] = (\n",
    "    \"POINT (\" + stations_roi[\"longitude\"].astype(str) + \" \" +\n",
    "    stations_roi[\"latitude\"].astype(str) + \")\"\n",
    ")"
   ]
  },
  {
   "cell_type": "code",
   "execution_count": 9,
   "metadata": {},
   "outputs": [],
   "source": [
    "# convert wkt to geometry\n",
    "stations_roi = gpd.GeoDataFrame(\n",
    "    stations_roi,\n",
    "    geometry=gpd.GeoSeries.from_wkt(stations_roi[\"wkt\"]),\n",
    "    crs=\"EPSG:4326\"\n",
    ")"
   ]
  },
  {
   "cell_type": "code",
   "execution_count": 10,
   "metadata": {},
   "outputs": [],
   "source": [
    "# drop wkt, lon, lat column\n",
    "stations_roi.drop(columns=[\"wkt\", \"longitude\", \"latitude\"], inplace=True)"
   ]
  },
  {
   "cell_type": "code",
   "execution_count": 11,
   "metadata": {},
   "outputs": [
    {
     "data": {
      "text/plain": [
       "array(['(null)', '1991', '1960', '1944', '1968', '1998', '1984', '1965',\n",
       "       '2000', '1959', '1986', '1989', '2001', '1996', '1895', '1993',\n",
       "       '1988', '1980', '2005', '1971', '1999', '1966', '1975', '1950',\n",
       "       '1972', '2018', '1987', '1990', '1973', '1969', '2019', '2009',\n",
       "       '1977', '2011', '1994', '1961', '2007', '1983', '2013', '1933',\n",
       "       '1963', '1952', '1982', '1943', '1985', '1956', '1970', '1964',\n",
       "       '1962', '1974', '1979', '2010', '2020', '1953', '2006', '1936',\n",
       "       '2017', '1919', '2002', '1945', '1924', '2012', '1995', '1940',\n",
       "       '1955', '1997', '1967', '1949', '2014', '1951', '2008', '1948',\n",
       "       '1957', '1981', '2016', '1992', '1958', '1935', '1931', '1937',\n",
       "       '2004', '2003', '1946', '2015', '1911', '1925', '1907', '1954',\n",
       "       '1921', '1976', '1917', '1938', '1939', '1978', '1904', '1886',\n",
       "       '1923', '1913', '1918', '1930', '1942', '1920', '1928', '1947',\n",
       "       '1912', '1899', '1889', '2021', '1929', '1916'], dtype=object)"
      ]
     },
     "execution_count": 11,
     "metadata": {},
     "output_type": "execute_result"
    }
   ],
   "source": [
    "stations_roi[\"close year\"].unique()"
   ]
  },
  {
   "cell_type": "code",
   "execution_count": 12,
   "metadata": {},
   "outputs": [
    {
     "data": {
      "text/plain": [
       "array(['2000', '1985', '1944', '1953', '1910', '1960', '1951', '1973',\n",
       "       '1963', '1950', '1987', '1866', '2003', '1946', '1982', '1967',\n",
       "       '1890', '1990', '1949', '1995', '1943', '1942', '1923', '1956',\n",
       "       '1958', '1968', '1984', '1972', '1992', '1993', '2001', '1952',\n",
       "       '2019', '1997', '2007', '2012', '2010', '1896', '2020', '1928',\n",
       "       '2014', '2005', '1897', '1940', '1924', '1961', '1974', '1983',\n",
       "       '1957', '1986', '1937', '1999', '1945', '1966', '2013', '1900',\n",
       "       '2015', '1948', '1978', '1936', '1914', '1925', '1962', '1981',\n",
       "       '1964', '1969', '1959', '2004', '1976', '1954', '1941', '1975',\n",
       "       '1935', '1988', '1994', '1862', '1998', '1977', '1873', '2018',\n",
       "       '1905', '1996', '2021', '1904', '1892', '1991', '2009', '2017',\n",
       "       '2016', '1909', '1895', '1911', '2002', '2008', '1921', '1938',\n",
       "       '1965', '1885', '1970', '1880', '1929', '1934', '1915', '1908',\n",
       "       '1913', '1894', '1920', '1926', '1931', '1829', '1860', '1939',\n",
       "       '1907', '1901', '1971', '2011', '1874', '1889', '1875', '1980',\n",
       "       '1989', '1955', '1864', '1979', '1947', '1871', '2006', '1916',\n",
       "       '1878', '(null)', '1883', '1898', '1876', '1893', '1917', '1918',\n",
       "       '1933', '1930', '1884', '1899', '1927', '1903', '2022', '1902',\n",
       "       '1879', '1919', '1841', '1886', '1870'], dtype=object)"
      ]
     },
     "execution_count": 12,
     "metadata": {},
     "output_type": "execute_result"
    }
   ],
   "source": [
    "stations_roi[\"open year\"].unique()"
   ]
  },
  {
   "cell_type": "code",
   "execution_count": 13,
   "metadata": {},
   "outputs": [],
   "source": [
    "# replace null values so that the data can be filtered\n",
    "stations_roi = stations_roi.replace({\n",
    "    \"close year\": {\"(null)\": 9999},\n",
    "    \"open year\": {\"(null)\": 0}\n",
    "})"
   ]
  },
  {
   "cell_type": "code",
   "execution_count": 14,
   "metadata": {},
   "outputs": [],
   "source": [
    "stations_roi[\"close year\"] = pd.to_numeric(stations_roi[\"close year\"])\n",
    "stations_roi[\"open year\"] = pd.to_numeric(stations_roi[\"open year\"])"
   ]
  },
  {
   "cell_type": "code",
   "execution_count": 15,
   "metadata": {},
   "outputs": [],
   "source": [
    "# filter stations that have data for the historic reference period\n",
    "stations_roi = stations_roi[\n",
    "    (stations_roi[\"close year\"] >= 2005) & (stations_roi[\"open year\"] <= 1976)\n",
    "]"
   ]
  },
  {
   "cell_type": "code",
   "execution_count": 16,
   "metadata": {},
   "outputs": [
    {
     "data": {
      "text/html": [
       "<div>\n",
       "<style scoped>\n",
       "    .dataframe tbody tr th:only-of-type {\n",
       "        vertical-align: middle;\n",
       "    }\n",
       "\n",
       "    .dataframe tbody tr th {\n",
       "        vertical-align: top;\n",
       "    }\n",
       "\n",
       "    .dataframe thead th {\n",
       "        text-align: right;\n",
       "    }\n",
       "</style>\n",
       "<table border=\"1\" class=\"dataframe\">\n",
       "  <thead>\n",
       "    <tr style=\"text-align: right;\">\n",
       "      <th></th>\n",
       "      <th>county</th>\n",
       "      <th>station name</th>\n",
       "      <th>name</th>\n",
       "      <th>height(m)</th>\n",
       "      <th>easting</th>\n",
       "      <th>northing</th>\n",
       "      <th>open year</th>\n",
       "      <th>close year</th>\n",
       "      <th>geometry</th>\n",
       "    </tr>\n",
       "  </thead>\n",
       "  <tbody>\n",
       "    <tr>\n",
       "      <th>25</th>\n",
       "      <td>Carlow</td>\n",
       "      <td>2115</td>\n",
       "      <td>HACKETSTOWN (Voc.Sch.)</td>\n",
       "      <td>189</td>\n",
       "      <td>297500</td>\n",
       "      <td>179900</td>\n",
       "      <td>1949</td>\n",
       "      <td>9999</td>\n",
       "      <td>POINT (-6.55278 52.86111)</td>\n",
       "    </tr>\n",
       "    <tr>\n",
       "      <th>39</th>\n",
       "      <td>Cavan</td>\n",
       "      <td>737</td>\n",
       "      <td>BALLYHAISE (AGR.COLL.)</td>\n",
       "      <td>67</td>\n",
       "      <td>245200</td>\n",
       "      <td>311600</td>\n",
       "      <td>1923</td>\n",
       "      <td>2005</td>\n",
       "      <td>POINT (-7.30972 54.05139)</td>\n",
       "    </tr>\n",
       "    <tr>\n",
       "      <th>40</th>\n",
       "      <td>Cavan</td>\n",
       "      <td>3037</td>\n",
       "      <td>SWANLINBAR</td>\n",
       "      <td>69</td>\n",
       "      <td>219400</td>\n",
       "      <td>327500</td>\n",
       "      <td>1942</td>\n",
       "      <td>2018</td>\n",
       "      <td>POINT (-7.70278 54.19583)</td>\n",
       "    </tr>\n",
       "    <tr>\n",
       "      <th>51</th>\n",
       "      <td>Cavan</td>\n",
       "      <td>4037</td>\n",
       "      <td>LOUGH GOWNA (GLENBROOK)</td>\n",
       "      <td>91</td>\n",
       "      <td>231200</td>\n",
       "      <td>292100</td>\n",
       "      <td>1973</td>\n",
       "      <td>2009</td>\n",
       "      <td>POINT (-7.52500 53.87778)</td>\n",
       "    </tr>\n",
       "    <tr>\n",
       "      <th>52</th>\n",
       "      <td>Cavan</td>\n",
       "      <td>4031</td>\n",
       "      <td>BAILIEBORO (Duneena)</td>\n",
       "      <td>158</td>\n",
       "      <td>264460</td>\n",
       "      <td>299820</td>\n",
       "      <td>1973</td>\n",
       "      <td>9999</td>\n",
       "      <td>POINT (-7.01917 53.94389)</td>\n",
       "    </tr>\n",
       "    <tr>\n",
       "      <th>...</th>\n",
       "      <td>...</td>\n",
       "      <td>...</td>\n",
       "      <td>...</td>\n",
       "      <td>...</td>\n",
       "      <td>...</td>\n",
       "      <td>...</td>\n",
       "      <td>...</td>\n",
       "      <td>...</td>\n",
       "      <td>...</td>\n",
       "    </tr>\n",
       "    <tr>\n",
       "      <th>2071</th>\n",
       "      <td>Wicklow</td>\n",
       "      <td>9220</td>\n",
       "      <td>M.DUFF HILL</td>\n",
       "      <td>701</td>\n",
       "      <td>308700</td>\n",
       "      <td>207200</td>\n",
       "      <td>1948</td>\n",
       "      <td>9999</td>\n",
       "      <td>POINT (-6.37639 53.10417)</td>\n",
       "    </tr>\n",
       "    <tr>\n",
       "      <th>2074</th>\n",
       "      <td>Wicklow</td>\n",
       "      <td>9420</td>\n",
       "      <td>M.GLENMALURE (Cloghernagh For.)</td>\n",
       "      <td>436</td>\n",
       "      <td>309100</td>\n",
       "      <td>190500</td>\n",
       "      <td>1952</td>\n",
       "      <td>9999</td>\n",
       "      <td>POINT (-6.37639 52.95417)</td>\n",
       "    </tr>\n",
       "    <tr>\n",
       "      <th>2075</th>\n",
       "      <td>Wicklow</td>\n",
       "      <td>9520</td>\n",
       "      <td>M.RATHDRUM (Ballintombay For.)</td>\n",
       "      <td>384</td>\n",
       "      <td>314400</td>\n",
       "      <td>190200</td>\n",
       "      <td>1952</td>\n",
       "      <td>9999</td>\n",
       "      <td>POINT (-6.29667 52.95083)</td>\n",
       "    </tr>\n",
       "    <tr>\n",
       "      <th>2078</th>\n",
       "      <td>Wicklow</td>\n",
       "      <td>9820</td>\n",
       "      <td>M.LOUGH OULER</td>\n",
       "      <td>457</td>\n",
       "      <td>309693</td>\n",
       "      <td>202757</td>\n",
       "      <td>1965</td>\n",
       "      <td>9999</td>\n",
       "      <td>POINT (-6.36444 53.06444)</td>\n",
       "    </tr>\n",
       "    <tr>\n",
       "      <th>2079</th>\n",
       "      <td>Wicklow</td>\n",
       "      <td>2415</td>\n",
       "      <td>GLEN IMAAL (For.Stn.)</td>\n",
       "      <td>213</td>\n",
       "      <td>297915</td>\n",
       "      <td>194835</td>\n",
       "      <td>1951</td>\n",
       "      <td>9999</td>\n",
       "      <td>POINT (-6.54250 52.99556)</td>\n",
       "    </tr>\n",
       "  </tbody>\n",
       "</table>\n",
       "<p>223 rows × 9 columns</p>\n",
       "</div>"
      ],
      "text/plain": [
       "       county  station name                             name  height(m)  \\\n",
       "25     Carlow          2115           HACKETSTOWN (Voc.Sch.)        189   \n",
       "39      Cavan           737           BALLYHAISE (AGR.COLL.)         67   \n",
       "40      Cavan          3037                       SWANLINBAR         69   \n",
       "51      Cavan          4037          LOUGH GOWNA (GLENBROOK)         91   \n",
       "52      Cavan          4031             BAILIEBORO (Duneena)        158   \n",
       "...       ...           ...                              ...        ...   \n",
       "2071  Wicklow          9220                      M.DUFF HILL        701   \n",
       "2074  Wicklow          9420  M.GLENMALURE (Cloghernagh For.)        436   \n",
       "2075  Wicklow          9520   M.RATHDRUM (Ballintombay For.)        384   \n",
       "2078  Wicklow          9820                    M.LOUGH OULER        457   \n",
       "2079  Wicklow          2415            GLEN IMAAL (For.Stn.)        213   \n",
       "\n",
       "      easting  northing  open year  close year                   geometry  \n",
       "25     297500    179900       1949        9999  POINT (-6.55278 52.86111)  \n",
       "39     245200    311600       1923        2005  POINT (-7.30972 54.05139)  \n",
       "40     219400    327500       1942        2018  POINT (-7.70278 54.19583)  \n",
       "51     231200    292100       1973        2009  POINT (-7.52500 53.87778)  \n",
       "52     264460    299820       1973        9999  POINT (-7.01917 53.94389)  \n",
       "...       ...       ...        ...         ...                        ...  \n",
       "2071   308700    207200       1948        9999  POINT (-6.37639 53.10417)  \n",
       "2074   309100    190500       1952        9999  POINT (-6.37639 52.95417)  \n",
       "2075   314400    190200       1952        9999  POINT (-6.29667 52.95083)  \n",
       "2078   309693    202757       1965        9999  POINT (-6.36444 53.06444)  \n",
       "2079   297915    194835       1951        9999  POINT (-6.54250 52.99556)  \n",
       "\n",
       "[223 rows x 9 columns]"
      ]
     },
     "execution_count": 16,
     "metadata": {},
     "output_type": "execute_result"
    }
   ],
   "source": [
    "stations_roi"
   ]
  },
  {
   "cell_type": "code",
   "execution_count": 17,
   "metadata": {},
   "outputs": [],
   "source": [
    "# replace null values\n",
    "stations_roi = stations_roi.replace({\"close year\": {9999: None}})\n",
    "stations_roi = stations_roi.replace({\"open year\": {0: None}})"
   ]
  },
  {
   "cell_type": "code",
   "execution_count": 18,
   "metadata": {},
   "outputs": [
    {
     "data": {
      "text/html": [
       "<div>\n",
       "<style scoped>\n",
       "    .dataframe tbody tr th:only-of-type {\n",
       "        vertical-align: middle;\n",
       "    }\n",
       "\n",
       "    .dataframe tbody tr th {\n",
       "        vertical-align: top;\n",
       "    }\n",
       "\n",
       "    .dataframe thead th {\n",
       "        text-align: right;\n",
       "    }\n",
       "</style>\n",
       "<table border=\"1\" class=\"dataframe\">\n",
       "  <thead>\n",
       "    <tr style=\"text-align: right;\">\n",
       "      <th></th>\n",
       "      <th>county</th>\n",
       "      <th>station name</th>\n",
       "      <th>name</th>\n",
       "      <th>height(m)</th>\n",
       "      <th>easting</th>\n",
       "      <th>northing</th>\n",
       "      <th>open year</th>\n",
       "      <th>close year</th>\n",
       "      <th>geometry</th>\n",
       "    </tr>\n",
       "  </thead>\n",
       "  <tbody>\n",
       "    <tr>\n",
       "      <th>25</th>\n",
       "      <td>Carlow</td>\n",
       "      <td>2115</td>\n",
       "      <td>HACKETSTOWN (Voc.Sch.)</td>\n",
       "      <td>189</td>\n",
       "      <td>297500</td>\n",
       "      <td>179900</td>\n",
       "      <td>1949</td>\n",
       "      <td>None</td>\n",
       "      <td>POINT (-6.55278 52.86111)</td>\n",
       "    </tr>\n",
       "    <tr>\n",
       "      <th>39</th>\n",
       "      <td>Cavan</td>\n",
       "      <td>737</td>\n",
       "      <td>BALLYHAISE (AGR.COLL.)</td>\n",
       "      <td>67</td>\n",
       "      <td>245200</td>\n",
       "      <td>311600</td>\n",
       "      <td>1923</td>\n",
       "      <td>2005</td>\n",
       "      <td>POINT (-7.30972 54.05139)</td>\n",
       "    </tr>\n",
       "    <tr>\n",
       "      <th>40</th>\n",
       "      <td>Cavan</td>\n",
       "      <td>3037</td>\n",
       "      <td>SWANLINBAR</td>\n",
       "      <td>69</td>\n",
       "      <td>219400</td>\n",
       "      <td>327500</td>\n",
       "      <td>1942</td>\n",
       "      <td>2018</td>\n",
       "      <td>POINT (-7.70278 54.19583)</td>\n",
       "    </tr>\n",
       "    <tr>\n",
       "      <th>51</th>\n",
       "      <td>Cavan</td>\n",
       "      <td>4037</td>\n",
       "      <td>LOUGH GOWNA (GLENBROOK)</td>\n",
       "      <td>91</td>\n",
       "      <td>231200</td>\n",
       "      <td>292100</td>\n",
       "      <td>1973</td>\n",
       "      <td>2009</td>\n",
       "      <td>POINT (-7.52500 53.87778)</td>\n",
       "    </tr>\n",
       "    <tr>\n",
       "      <th>52</th>\n",
       "      <td>Cavan</td>\n",
       "      <td>4031</td>\n",
       "      <td>BAILIEBORO (Duneena)</td>\n",
       "      <td>158</td>\n",
       "      <td>264460</td>\n",
       "      <td>299820</td>\n",
       "      <td>1973</td>\n",
       "      <td>None</td>\n",
       "      <td>POINT (-7.01917 53.94389)</td>\n",
       "    </tr>\n",
       "  </tbody>\n",
       "</table>\n",
       "</div>"
      ],
      "text/plain": [
       "    county  station name                     name  height(m)  easting  \\\n",
       "25  Carlow          2115   HACKETSTOWN (Voc.Sch.)        189   297500   \n",
       "39   Cavan           737   BALLYHAISE (AGR.COLL.)         67   245200   \n",
       "40   Cavan          3037               SWANLINBAR         69   219400   \n",
       "51   Cavan          4037  LOUGH GOWNA (GLENBROOK)         91   231200   \n",
       "52   Cavan          4031     BAILIEBORO (Duneena)        158   264460   \n",
       "\n",
       "    northing open year close year                   geometry  \n",
       "25    179900      1949       None  POINT (-6.55278 52.86111)  \n",
       "39    311600      1923       2005  POINT (-7.30972 54.05139)  \n",
       "40    327500      1942       2018  POINT (-7.70278 54.19583)  \n",
       "51    292100      1973       2009  POINT (-7.52500 53.87778)  \n",
       "52    299820      1973       None  POINT (-7.01917 53.94389)  "
      ]
     },
     "execution_count": 18,
     "metadata": {},
     "output_type": "execute_result"
    }
   ],
   "source": [
    "stations_roi.head()"
   ]
  },
  {
   "cell_type": "code",
   "execution_count": 19,
   "metadata": {},
   "outputs": [
    {
     "data": {
      "text/plain": [
       "(223, 9)"
      ]
     },
     "execution_count": 19,
     "metadata": {},
     "output_type": "execute_result"
    }
   ],
   "source": [
    "stations_roi.shape"
   ]
  },
  {
   "cell_type": "markdown",
   "metadata": {},
   "source": [
    "## Met Office data for stations in Northern Ireland\n",
    "\n",
    "<https://www.metoffice.gov.uk/research/climate/maps-and-data/uk-synoptic-and-climate-stations>\n",
    "\n",
    "Met Office (2019): Met Office MIDAS Open: UK Land Surface Stations Data\n",
    "(1853-current). Centre for Environmental Data Analysis.\n",
    "<https://catalogue.ceda.ac.uk/uuid/dbd451271eb04662beade68da43546e1>"
   ]
  },
  {
   "cell_type": "code",
   "execution_count": 20,
   "metadata": {},
   "outputs": [],
   "source": [
    "SUB_DIR = os.path.join(\"data\", \"met\", \"metoffice\", \"raw\")"
   ]
  },
  {
   "cell_type": "code",
   "execution_count": 21,
   "metadata": {},
   "outputs": [],
   "source": [
    "stations_ni = pd.read_csv(\n",
    "    os.path.join(\n",
    "        SUB_DIR,\n",
    "        \"midas-open_uk-daily-rain-obs_dv-202107_station-metadata.csv\"\n",
    "    ),\n",
    "    skiprows=46,\n",
    "    skipfooter=1,\n",
    "    engine=\"python\"\n",
    ")"
   ]
  },
  {
   "cell_type": "code",
   "execution_count": 22,
   "metadata": {},
   "outputs": [
    {
     "data": {
      "text/plain": [
       "(1523, 9)"
      ]
     },
     "execution_count": 22,
     "metadata": {},
     "output_type": "execute_result"
    }
   ],
   "source": [
    "stations_ni.shape"
   ]
  },
  {
   "cell_type": "code",
   "execution_count": 23,
   "metadata": {},
   "outputs": [
    {
     "data": {
      "text/html": [
       "<div>\n",
       "<style scoped>\n",
       "    .dataframe tbody tr th:only-of-type {\n",
       "        vertical-align: middle;\n",
       "    }\n",
       "\n",
       "    .dataframe tbody tr th {\n",
       "        vertical-align: top;\n",
       "    }\n",
       "\n",
       "    .dataframe thead th {\n",
       "        text-align: right;\n",
       "    }\n",
       "</style>\n",
       "<table border=\"1\" class=\"dataframe\">\n",
       "  <thead>\n",
       "    <tr style=\"text-align: right;\">\n",
       "      <th></th>\n",
       "      <th>src_id</th>\n",
       "      <th>station_name</th>\n",
       "      <th>station_file_name</th>\n",
       "      <th>historic_county</th>\n",
       "      <th>station_latitude</th>\n",
       "      <th>station_longitude</th>\n",
       "      <th>station_elevation</th>\n",
       "      <th>first_year</th>\n",
       "      <th>last_year</th>\n",
       "    </tr>\n",
       "  </thead>\n",
       "  <tbody>\n",
       "    <tr>\n",
       "      <th>0</th>\n",
       "      <td>1</td>\n",
       "      <td>FOULA</td>\n",
       "      <td>foula</td>\n",
       "      <td>shetland</td>\n",
       "      <td>60.154</td>\n",
       "      <td>-2.074</td>\n",
       "      <td>22</td>\n",
       "      <td>1989</td>\n",
       "      <td>2003</td>\n",
       "    </tr>\n",
       "    <tr>\n",
       "      <th>1</th>\n",
       "      <td>3</td>\n",
       "      <td>FAIR ISLE</td>\n",
       "      <td>fair-isle</td>\n",
       "      <td>shetland</td>\n",
       "      <td>59.526</td>\n",
       "      <td>-1.630</td>\n",
       "      <td>57</td>\n",
       "      <td>1974</td>\n",
       "      <td>1997</td>\n",
       "    </tr>\n",
       "    <tr>\n",
       "      <th>2</th>\n",
       "      <td>5</td>\n",
       "      <td>HAMNAVOE</td>\n",
       "      <td>hamnavoe</td>\n",
       "      <td>shetland</td>\n",
       "      <td>60.104</td>\n",
       "      <td>-1.333</td>\n",
       "      <td>21</td>\n",
       "      <td>1961</td>\n",
       "      <td>1973</td>\n",
       "    </tr>\n",
       "    <tr>\n",
       "      <th>3</th>\n",
       "      <td>6</td>\n",
       "      <td>SCATSTA</td>\n",
       "      <td>scatsta</td>\n",
       "      <td>shetland</td>\n",
       "      <td>60.439</td>\n",
       "      <td>-1.308</td>\n",
       "      <td>15</td>\n",
       "      <td>1974</td>\n",
       "      <td>1980</td>\n",
       "    </tr>\n",
       "    <tr>\n",
       "      <th>4</th>\n",
       "      <td>7</td>\n",
       "      <td>COLLAFIRTH</td>\n",
       "      <td>collafirth</td>\n",
       "      <td>shetland</td>\n",
       "      <td>60.533</td>\n",
       "      <td>-1.391</td>\n",
       "      <td>228</td>\n",
       "      <td>1983</td>\n",
       "      <td>1991</td>\n",
       "    </tr>\n",
       "  </tbody>\n",
       "</table>\n",
       "</div>"
      ],
      "text/plain": [
       "   src_id station_name station_file_name historic_county  station_latitude  \\\n",
       "0       1        FOULA             foula        shetland            60.154   \n",
       "1       3    FAIR ISLE         fair-isle        shetland            59.526   \n",
       "2       5     HAMNAVOE          hamnavoe        shetland            60.104   \n",
       "3       6      SCATSTA           scatsta        shetland            60.439   \n",
       "4       7   COLLAFIRTH        collafirth        shetland            60.533   \n",
       "\n",
       "   station_longitude  station_elevation  first_year  last_year  \n",
       "0             -2.074                 22        1989       2003  \n",
       "1             -1.630                 57        1974       1997  \n",
       "2             -1.333                 21        1961       1973  \n",
       "3             -1.308                 15        1974       1980  \n",
       "4             -1.391                228        1983       1991  "
      ]
     },
     "execution_count": 23,
     "metadata": {},
     "output_type": "execute_result"
    }
   ],
   "source": [
    "stations_ni.head()"
   ]
  },
  {
   "cell_type": "code",
   "execution_count": 24,
   "metadata": {},
   "outputs": [],
   "source": [
    "# list of historic counties in NI\n",
    "# https://en.wikipedia.org/wiki/Historic_counties_of_the_United_Kingdom\n",
    "counties_ni = [\n",
    "    \"antrim\", \"armagh\", \"down\", \"fermanagh\", \"londonderry\", \"tyrone\"\n",
    "]"
   ]
  },
  {
   "cell_type": "code",
   "execution_count": 25,
   "metadata": {},
   "outputs": [],
   "source": [
    "# keep only NI data\n",
    "stations_ni = stations_ni[stations_ni[\"historic_county\"].isin(counties_ni)]"
   ]
  },
  {
   "cell_type": "code",
   "execution_count": 26,
   "metadata": {},
   "outputs": [],
   "source": [
    "# convert coordinates to well known text\n",
    "stations_ni[\"wkt\"] = (\n",
    "    \"POINT (\" + stations_ni[\"station_longitude\"].astype(str) + \" \" +\n",
    "    stations_ni[\"station_latitude\"].astype(str) + \")\"\n",
    ")"
   ]
  },
  {
   "cell_type": "code",
   "execution_count": 27,
   "metadata": {},
   "outputs": [],
   "source": [
    "# convert wkt to geometry\n",
    "stations_ni = gpd.GeoDataFrame(\n",
    "    stations_ni,\n",
    "    geometry=gpd.GeoSeries.from_wkt(stations_ni[\"wkt\"]),\n",
    "    crs=\"EPSG:4326\"\n",
    ")"
   ]
  },
  {
   "cell_type": "code",
   "execution_count": 28,
   "metadata": {},
   "outputs": [],
   "source": [
    "# drop wkt, lon, lat column\n",
    "stations_ni.drop(\n",
    "    columns=[\"wkt\", \"station_longitude\", \"station_latitude\"],\n",
    "    inplace=True\n",
    ")"
   ]
  },
  {
   "cell_type": "code",
   "execution_count": 29,
   "metadata": {},
   "outputs": [
    {
     "data": {
      "text/plain": [
       "array([1999, 2000, 1996, 1976, 1978, 1963, 1962, 1986, 1969, 1972, 1964,\n",
       "       1995, 1961, 1981, 1970, 1980, 1993, 1965, 1966, 1971, 1987, 1975,\n",
       "       1979, 1992, 1989, 1982, 1924, 1967, 1997, 1985, 1968, 1990, 1983,\n",
       "       1991, 1954, 1984, 1853, 1892, 1872, 1973, 1974, 1998, 2002])"
      ]
     },
     "execution_count": 29,
     "metadata": {},
     "output_type": "execute_result"
    }
   ],
   "source": [
    "stations_ni[\"first_year\"].unique()"
   ]
  },
  {
   "cell_type": "code",
   "execution_count": 30,
   "metadata": {},
   "outputs": [
    {
     "data": {
      "text/plain": [
       "array([2001, 2019, 2004, 1998, 1984, 1997, 2005, 1985, 1987, 2009, 1995,\n",
       "       1993, 1982, 1977, 2000, 1986, 1980, 1971, 2013, 1996, 1973, 2008,\n",
       "       2003, 1974, 2014, 1972, 1983, 2007, 1990, 1979, 1981, 2020, 1992,\n",
       "       2006, 1976, 1975, 1989, 1991, 1999, 2010, 1968, 1988, 2002, 1994,\n",
       "       2012, 1965, 2015, 2017, 2011])"
      ]
     },
     "execution_count": 30,
     "metadata": {},
     "output_type": "execute_result"
    }
   ],
   "source": [
    "stations_ni[\"last_year\"].unique()"
   ]
  },
  {
   "cell_type": "code",
   "execution_count": 31,
   "metadata": {},
   "outputs": [],
   "source": [
    "# filter stations that have data for the historic reference period\n",
    "stations_ni = stations_ni[\n",
    "    (stations_ni[\"last_year\"] >= 2005) & (stations_ni[\"first_year\"] <= 1976)\n",
    "]"
   ]
  },
  {
   "cell_type": "code",
   "execution_count": 32,
   "metadata": {},
   "outputs": [],
   "source": [
    "# rename Londonderry to Derry\n",
    "stations_ni = stations_ni.replace(\n",
    "    {\"historic_county\": {\"londonderry\": \"derry\"}}\n",
    ")"
   ]
  },
  {
   "cell_type": "code",
   "execution_count": 33,
   "metadata": {},
   "outputs": [
    {
     "data": {
      "text/html": [
       "<div>\n",
       "<style scoped>\n",
       "    .dataframe tbody tr th:only-of-type {\n",
       "        vertical-align: middle;\n",
       "    }\n",
       "\n",
       "    .dataframe tbody tr th {\n",
       "        vertical-align: top;\n",
       "    }\n",
       "\n",
       "    .dataframe thead th {\n",
       "        text-align: right;\n",
       "    }\n",
       "</style>\n",
       "<table border=\"1\" class=\"dataframe\">\n",
       "  <thead>\n",
       "    <tr style=\"text-align: right;\">\n",
       "      <th></th>\n",
       "      <th>src_id</th>\n",
       "      <th>station_name</th>\n",
       "      <th>station_file_name</th>\n",
       "      <th>historic_county</th>\n",
       "      <th>station_elevation</th>\n",
       "      <th>first_year</th>\n",
       "      <th>last_year</th>\n",
       "      <th>geometry</th>\n",
       "    </tr>\n",
       "  </thead>\n",
       "  <tbody>\n",
       "    <tr>\n",
       "      <th>1205</th>\n",
       "      <td>1427</td>\n",
       "      <td>CARMONEY</td>\n",
       "      <td>carmoney</td>\n",
       "      <td>derry</td>\n",
       "      <td>73</td>\n",
       "      <td>1963</td>\n",
       "      <td>2005</td>\n",
       "      <td>POINT (-7.21100 55.02500)</td>\n",
       "    </tr>\n",
       "    <tr>\n",
       "      <th>1209</th>\n",
       "      <td>1431</td>\n",
       "      <td>BANAGHER, CAUGH HILL</td>\n",
       "      <td>banagher-caugh-hill</td>\n",
       "      <td>derry</td>\n",
       "      <td>214</td>\n",
       "      <td>1969</td>\n",
       "      <td>2009</td>\n",
       "      <td>POINT (-6.96600 54.88600)</td>\n",
       "    </tr>\n",
       "    <tr>\n",
       "      <th>1224</th>\n",
       "      <td>1449</td>\n",
       "      <td>LISNAFILLAN</td>\n",
       "      <td>lisnafillan</td>\n",
       "      <td>antrim</td>\n",
       "      <td>38</td>\n",
       "      <td>1963</td>\n",
       "      <td>2005</td>\n",
       "      <td>POINT (-6.32600 54.85700)</td>\n",
       "    </tr>\n",
       "    <tr>\n",
       "      <th>1227</th>\n",
       "      <td>1452</td>\n",
       "      <td>ALTNAHINCH FILTERS</td>\n",
       "      <td>altnahinch-filters</td>\n",
       "      <td>antrim</td>\n",
       "      <td>213</td>\n",
       "      <td>1966</td>\n",
       "      <td>2009</td>\n",
       "      <td>POINT (-6.25500 55.04800)</td>\n",
       "    </tr>\n",
       "    <tr>\n",
       "      <th>1230</th>\n",
       "      <td>1457</td>\n",
       "      <td>CARNLOUGH</td>\n",
       "      <td>carnlough</td>\n",
       "      <td>antrim</td>\n",
       "      <td>12</td>\n",
       "      <td>1975</td>\n",
       "      <td>2005</td>\n",
       "      <td>POINT (-5.99300 54.98400)</td>\n",
       "    </tr>\n",
       "  </tbody>\n",
       "</table>\n",
       "</div>"
      ],
      "text/plain": [
       "      src_id          station_name    station_file_name historic_county  \\\n",
       "1205    1427              CARMONEY             carmoney           derry   \n",
       "1209    1431  BANAGHER, CAUGH HILL  banagher-caugh-hill           derry   \n",
       "1224    1449           LISNAFILLAN          lisnafillan          antrim   \n",
       "1227    1452    ALTNAHINCH FILTERS   altnahinch-filters          antrim   \n",
       "1230    1457             CARNLOUGH            carnlough          antrim   \n",
       "\n",
       "      station_elevation  first_year  last_year                   geometry  \n",
       "1205                 73        1963       2005  POINT (-7.21100 55.02500)  \n",
       "1209                214        1969       2009  POINT (-6.96600 54.88600)  \n",
       "1224                 38        1963       2005  POINT (-6.32600 54.85700)  \n",
       "1227                213        1966       2009  POINT (-6.25500 55.04800)  \n",
       "1230                 12        1975       2005  POINT (-5.99300 54.98400)  "
      ]
     },
     "execution_count": 33,
     "metadata": {},
     "output_type": "execute_result"
    }
   ],
   "source": [
    "stations_ni.head()"
   ]
  },
  {
   "cell_type": "code",
   "execution_count": 34,
   "metadata": {},
   "outputs": [
    {
     "data": {
      "text/plain": [
       "(21, 8)"
      ]
     },
     "execution_count": 34,
     "metadata": {},
     "output_type": "execute_result"
    }
   ],
   "source": [
    "stations_ni.shape"
   ]
  },
  {
   "cell_type": "markdown",
   "metadata": {},
   "source": [
    "## Plot"
   ]
  },
  {
   "cell_type": "code",
   "execution_count": 35,
   "metadata": {},
   "outputs": [],
   "source": [
    "# Ireland boundary\n",
    "GPKG_BOUNDARY = os.path.join(\"data\", \"boundary\", \"boundaries.gpkg\")\n",
    "ie = gpd.read_file(GPKG_BOUNDARY, layer=\"NUTS_Ireland\")"
   ]
  },
  {
   "cell_type": "code",
   "execution_count": 37,
   "metadata": {},
   "outputs": [
    {
     "data": {
      "image/png": "[encoded data removed]",
      "text/plain": [
       "<Figure size 864x864 with 1 Axes>"
      ]
     },
     "metadata": {},
     "output_type": "display_data"
    }
   ],
   "source": [
    "base = ie.plot(color=\"navajowhite\", figsize=(9, 9))\n",
    "ie.boundary.plot(ax=base, color=\"darkslategrey\", linewidth=.4)\n",
    "stations_roi.plot(\n",
    "    ax=base, color=\"royalblue\", markersize=5, label=\"Met Éireann\"\n",
    ")\n",
    "stations_ni.plot(ax=base, color=\"crimson\", markersize=5, label=\"Met Office\")\n",
    "\n",
    "base.xaxis.set_major_formatter(cplt.longitude_tick_format)\n",
    "base.yaxis.set_major_formatter(cplt.latitude_tick_format)\n",
    "base.yaxis.set_major_locator(ticker.MultipleLocator(1))\n",
    "\n",
    "plt.title(\"Meteorological stations in Ireland\")\n",
    "plt.text(\n",
    "    -8, 51.275,\n",
    "    \"© Met Éireann\\n© Met Office, NERC EDS CEDA\\n\" +\n",
    "    \"© Ordnance Survey Ireland\\n\"\n",
    "    \"© Ordnance Survey Northern Ireland\"\n",
    ")\n",
    "plt.legend(loc=\"upper left\")\n",
    "\n",
    "plt.show()"
   ]
  },
  {
   "cell_type": "code",
   "execution_count": 38,
   "metadata": {},
   "outputs": [],
   "source": [
    "# save as GPKG\n",
    "GPKG_MET = os.path.join(\"data\", \"met\", \"stations.gpkg\")\n",
    "stations_roi.to_file(GPKG_MET, layer=\"meteireann\")\n",
    "stations_ni.to_file(GPKG_MET, layer=\"metoffice\")"
   ]
  },
  {
   "cell_type": "code",
   "execution_count": null,
   "metadata": {},
   "outputs": [],
   "source": []
  }
 ],
 "metadata": {
  "kernelspec": {
   "display_name": "Python 3.10.6 ('ClimAg')",
   "language": "python",
   "name": "python3"
  },
  "language_info": {
   "codemirror_mode": {
    "name": "ipython",
    "version": 3
   },
   "file_extension": ".py",
   "mimetype": "text/x-python",
   "name": "python",
   "nbconvert_exporter": "python",
   "pygments_lexer": "ipython3",
   "version": "3.10.6 | packaged by conda-forge | (main, Aug 22 2022, 20:35:26) [GCC 10.4.0]"
  },
  "orig_nbformat": 4,
  "vscode": {
   "interpreter": {
    "hash": "c4e659d1bedfc73d1fd31d7c0e2c79d7cc7aac22204994016c65a9e44686eb91"
   }
  }
 },
 "nbformat": 4,
 "nbformat_minor": 2
}
