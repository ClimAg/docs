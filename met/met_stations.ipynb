{
 "cells": [
  {
   "cell_type": "markdown",
   "metadata": {},
   "source": [
    "# Met stations"
   ]
  },
  {
   "cell_type": "code",
   "execution_count": 1,
   "metadata": {},
   "outputs": [],
   "source": [
    "import os\n",
    "from datetime import datetime, timezone\n",
    "import geopandas as gpd\n",
    "import numpy as np\n",
    "import matplotlib.pyplot as plt\n",
    "import pandas as pd\n",
    "import pooch\n",
    "from matplotlib import ticker\n",
    "import climag.plot_configs as cplt"
   ]
  },
  {
   "cell_type": "code",
   "execution_count": 2,
   "metadata": {},
   "outputs": [
    {
     "name": "stdout",
     "output_type": "stream",
     "text": [
      "Last updated: 2023-02-22 12:49:38.093180+00:00\n"
     ]
    }
   ],
   "source": [
    "print(\"Last updated:\", datetime.now(tz=timezone.utc))"
   ]
  },
  {
   "cell_type": "markdown",
   "metadata": {},
   "source": [
    "## Met Éireann stations\n",
    "\n",
    "- Station details can be found here:\n",
    "  <https://cli.fusio.net/cli/climate_data/webdata/StationDetails.csv>\n",
    "- <https://www.met.ie/climate/weather-observing-stations>\n",
    "- Check the \"Show closed stations\" box to obtain data for this replaced\n",
    "  station: <https://www.met.ie/climate/available-data/historical-data>"
   ]
  },
  {
   "cell_type": "code",
   "execution_count": 4,
   "metadata": {},
   "outputs": [],
   "source": [
    "URL = \"https://cli.fusio.net/cli/climate_data/webdata/StationDetails.csv\"\n",
    "SUB_DIR = os.path.join(\"data\", \"met\", \"MetEireann\")\n",
    "KNOWN_HASH = None\n",
    "os.makedirs(SUB_DIR, exist_ok=True)\n",
    "FILE_NAME = \"StationDetails.csv\""
   ]
  },
  {
   "cell_type": "code",
   "execution_count": 5,
   "metadata": {},
   "outputs": [],
   "source": [
    "# download data if necessary\n",
    "if not os.path.isfile(os.path.join(SUB_DIR, FILE_NAME)):\n",
    "    pooch.retrieve(\n",
    "        url=URL, known_hash=KNOWN_HASH, fname=FILE_NAME, path=SUB_DIR\n",
    "    )\n",
    "\n",
    "    with open(\n",
    "        os.path.join(SUB_DIR, f\"{FILE_NAME[:-4]}.txt\"), \"w\", encoding=\"utf-8\"\n",
    "    ) as outfile:\n",
    "        outfile.write(\n",
    "            f\"Data downloaded on: {datetime.now(tz=timezone.utc)}\\n\"\n",
    "            f\"Download URL: {URL}\"\n",
    "        )"
   ]
  },
  {
   "cell_type": "code",
   "execution_count": 6,
   "metadata": {},
   "outputs": [],
   "source": [
    "stations_roi = pd.read_csv(os.path.join(SUB_DIR, FILE_NAME))"
   ]
  },
  {
   "cell_type": "code",
   "execution_count": 7,
   "metadata": {},
   "outputs": [
    {
     "data": {
      "text/plain": [
       "(2083, 10)"
      ]
     },
     "execution_count": 7,
     "metadata": {},
     "output_type": "execute_result"
    }
   ],
   "source": [
    "stations_roi.shape"
   ]
  },
  {
   "cell_type": "code",
   "execution_count": 8,
   "metadata": {},
   "outputs": [
    {
     "data": {
      "text/html": [
       "<div>\n",
       "<style scoped>\n",
       "    .dataframe tbody tr th:only-of-type {\n",
       "        vertical-align: middle;\n",
       "    }\n",
       "\n",
       "    .dataframe tbody tr th {\n",
       "        vertical-align: top;\n",
       "    }\n",
       "\n",
       "    .dataframe thead th {\n",
       "        text-align: right;\n",
       "    }\n",
       "</style>\n",
       "<table border=\"1\" class=\"dataframe\">\n",
       "  <thead>\n",
       "    <tr style=\"text-align: right;\">\n",
       "      <th></th>\n",
       "      <th>county</th>\n",
       "      <th>station name</th>\n",
       "      <th>name</th>\n",
       "      <th>height(m)</th>\n",
       "      <th>easting</th>\n",
       "      <th>northing</th>\n",
       "      <th>latitude</th>\n",
       "      <th>longitude</th>\n",
       "      <th>open year</th>\n",
       "      <th>close year</th>\n",
       "    </tr>\n",
       "  </thead>\n",
       "  <tbody>\n",
       "    <tr>\n",
       "      <th>0</th>\n",
       "      <td>Antrim</td>\n",
       "      <td>5880</td>\n",
       "      <td>LH_RATHLIN_WEST</td>\n",
       "      <td>10</td>\n",
       "      <td>309200</td>\n",
       "      <td>451800</td>\n",
       "      <td>55.30083</td>\n",
       "      <td>-6.28028</td>\n",
       "      <td>2000</td>\n",
       "      <td>(null)</td>\n",
       "    </tr>\n",
       "    <tr>\n",
       "      <th>1</th>\n",
       "      <td>Carlow</td>\n",
       "      <td>4415</td>\n",
       "      <td>TULLOW (Waterworks)</td>\n",
       "      <td>76</td>\n",
       "      <td>284700</td>\n",
       "      <td>173400</td>\n",
       "      <td>52.80528</td>\n",
       "      <td>-6.74306</td>\n",
       "      <td>1985</td>\n",
       "      <td>(null)</td>\n",
       "    </tr>\n",
       "    <tr>\n",
       "      <th>2</th>\n",
       "      <td>Carlow</td>\n",
       "      <td>2414</td>\n",
       "      <td>BORRIS G.S.</td>\n",
       "      <td>85</td>\n",
       "      <td>272400</td>\n",
       "      <td>150700</td>\n",
       "      <td>52.60278</td>\n",
       "      <td>-6.93056</td>\n",
       "      <td>1944</td>\n",
       "      <td>1991</td>\n",
       "    </tr>\n",
       "    <tr>\n",
       "      <th>3</th>\n",
       "      <td>Carlow</td>\n",
       "      <td>1214</td>\n",
       "      <td>CARLOW (SUGAR FACTORY)</td>\n",
       "      <td>58</td>\n",
       "      <td>272200</td>\n",
       "      <td>178400</td>\n",
       "      <td>52.85139</td>\n",
       "      <td>-6.92778</td>\n",
       "      <td>1953</td>\n",
       "      <td>1960</td>\n",
       "    </tr>\n",
       "    <tr>\n",
       "      <th>4</th>\n",
       "      <td>Carlow</td>\n",
       "      <td>115</td>\n",
       "      <td>HACKETSTOWN RECTORY</td>\n",
       "      <td>182</td>\n",
       "      <td>297600</td>\n",
       "      <td>180500</td>\n",
       "      <td>52.86667</td>\n",
       "      <td>-6.55000</td>\n",
       "      <td>1910</td>\n",
       "      <td>1944</td>\n",
       "    </tr>\n",
       "  </tbody>\n",
       "</table>\n",
       "</div>"
      ],
      "text/plain": [
       "   county  station name                    name  height(m)  easting  northing  \\\n",
       "0  Antrim          5880         LH_RATHLIN_WEST         10   309200    451800   \n",
       "1  Carlow          4415     TULLOW (Waterworks)         76   284700    173400   \n",
       "2  Carlow          2414             BORRIS G.S.         85   272400    150700   \n",
       "3  Carlow          1214  CARLOW (SUGAR FACTORY)         58   272200    178400   \n",
       "4  Carlow           115     HACKETSTOWN RECTORY        182   297600    180500   \n",
       "\n",
       "   latitude  longitude open year close year  \n",
       "0  55.30083   -6.28028      2000     (null)  \n",
       "1  52.80528   -6.74306      1985     (null)  \n",
       "2  52.60278   -6.93056      1944       1991  \n",
       "3  52.85139   -6.92778      1953       1960  \n",
       "4  52.86667   -6.55000      1910       1944  "
      ]
     },
     "execution_count": 8,
     "metadata": {},
     "output_type": "execute_result"
    }
   ],
   "source": [
    "stations_roi.head()"
   ]
  },
  {
   "cell_type": "code",
   "execution_count": 9,
   "metadata": {},
   "outputs": [],
   "source": [
    "# convert coordinates to well known text\n",
    "stations_roi[\"wkt\"] = (\n",
    "    \"POINT (\"\n",
    "    + stations_roi[\"longitude\"].astype(str)\n",
    "    + \" \"\n",
    "    + stations_roi[\"latitude\"].astype(str)\n",
    "    + \")\"\n",
    ")"
   ]
  },
  {
   "cell_type": "code",
   "execution_count": 10,
   "metadata": {},
   "outputs": [],
   "source": [
    "# convert wkt to geometry\n",
    "stations_roi = gpd.GeoDataFrame(\n",
    "    stations_roi,\n",
    "    geometry=gpd.GeoSeries.from_wkt(stations_roi[\"wkt\"]),\n",
    "    crs=\"EPSG:4326\",\n",
    ")"
   ]
  },
  {
   "cell_type": "code",
   "execution_count": 11,
   "metadata": {},
   "outputs": [],
   "source": [
    "# drop wkt, lon, lat column\n",
    "stations_roi.drop(columns=[\"wkt\", \"longitude\", \"latitude\"], inplace=True)"
   ]
  },
  {
   "cell_type": "code",
   "execution_count": 13,
   "metadata": {},
   "outputs": [],
   "source": [
    "# replace null values\n",
    "stations_roi = stations_roi.replace(\n",
    "    {\"close year\": {\"(null)\": np.nan}, \"open year\": {\"(null)\": np.nan}}\n",
    ")"
   ]
  },
  {
   "cell_type": "code",
   "execution_count": 14,
   "metadata": {},
   "outputs": [],
   "source": [
    "# stations_roi[\"close year\"] = pd.to_numeric(stations_roi[\"close year\"])\n",
    "# stations_roi[\"open year\"] = pd.to_numeric(stations_roi[\"open year\"])"
   ]
  },
  {
   "cell_type": "code",
   "execution_count": 15,
   "metadata": {},
   "outputs": [],
   "source": [
    "# # filter stations that have data for the historic reference period\n",
    "# stations_roi = stations_roi[\n",
    "#     (stations_roi[\"close year\"] >= 2005) &\n",
    "#     (stations_roi[\"open year\"] <= 1976)\n",
    "# ]"
   ]
  },
  {
   "cell_type": "code",
   "execution_count": 17,
   "metadata": {},
   "outputs": [],
   "source": [
    "# # replace null values\n",
    "# stations_roi = stations_roi.replace({\"close year\": {np.nan: None}})\n",
    "# stations_roi = stations_roi.replace({\"open year\": {np.nan: None}})"
   ]
  },
  {
   "cell_type": "code",
   "execution_count": 15,
   "metadata": {},
   "outputs": [
    {
     "data": {
      "text/html": [
       "<div>\n",
       "<style scoped>\n",
       "    .dataframe tbody tr th:only-of-type {\n",
       "        vertical-align: middle;\n",
       "    }\n",
       "\n",
       "    .dataframe tbody tr th {\n",
       "        vertical-align: top;\n",
       "    }\n",
       "\n",
       "    .dataframe thead th {\n",
       "        text-align: right;\n",
       "    }\n",
       "</style>\n",
       "<table border=\"1\" class=\"dataframe\">\n",
       "  <thead>\n",
       "    <tr style=\"text-align: right;\">\n",
       "      <th></th>\n",
       "      <th>county</th>\n",
       "      <th>station name</th>\n",
       "      <th>name</th>\n",
       "      <th>height(m)</th>\n",
       "      <th>easting</th>\n",
       "      <th>northing</th>\n",
       "      <th>open year</th>\n",
       "      <th>close year</th>\n",
       "      <th>geometry</th>\n",
       "    </tr>\n",
       "  </thead>\n",
       "  <tbody>\n",
       "    <tr>\n",
       "      <th>0</th>\n",
       "      <td>Antrim</td>\n",
       "      <td>5880</td>\n",
       "      <td>LH_RATHLIN_WEST</td>\n",
       "      <td>10</td>\n",
       "      <td>309200</td>\n",
       "      <td>451800</td>\n",
       "      <td>2000</td>\n",
       "      <td>NaN</td>\n",
       "      <td>POINT (-6.28028 55.30083)</td>\n",
       "    </tr>\n",
       "    <tr>\n",
       "      <th>1</th>\n",
       "      <td>Carlow</td>\n",
       "      <td>4415</td>\n",
       "      <td>TULLOW (Waterworks)</td>\n",
       "      <td>76</td>\n",
       "      <td>284700</td>\n",
       "      <td>173400</td>\n",
       "      <td>1985</td>\n",
       "      <td>NaN</td>\n",
       "      <td>POINT (-6.74306 52.80528)</td>\n",
       "    </tr>\n",
       "    <tr>\n",
       "      <th>2</th>\n",
       "      <td>Carlow</td>\n",
       "      <td>2414</td>\n",
       "      <td>BORRIS G.S.</td>\n",
       "      <td>85</td>\n",
       "      <td>272400</td>\n",
       "      <td>150700</td>\n",
       "      <td>1944</td>\n",
       "      <td>1991</td>\n",
       "      <td>POINT (-6.93056 52.60278)</td>\n",
       "    </tr>\n",
       "    <tr>\n",
       "      <th>3</th>\n",
       "      <td>Carlow</td>\n",
       "      <td>1214</td>\n",
       "      <td>CARLOW (SUGAR FACTORY)</td>\n",
       "      <td>58</td>\n",
       "      <td>272200</td>\n",
       "      <td>178400</td>\n",
       "      <td>1953</td>\n",
       "      <td>1960</td>\n",
       "      <td>POINT (-6.92778 52.85139)</td>\n",
       "    </tr>\n",
       "    <tr>\n",
       "      <th>4</th>\n",
       "      <td>Carlow</td>\n",
       "      <td>115</td>\n",
       "      <td>HACKETSTOWN RECTORY</td>\n",
       "      <td>182</td>\n",
       "      <td>297600</td>\n",
       "      <td>180500</td>\n",
       "      <td>1910</td>\n",
       "      <td>1944</td>\n",
       "      <td>POINT (-6.55000 52.86667)</td>\n",
       "    </tr>\n",
       "  </tbody>\n",
       "</table>\n",
       "</div>"
      ],
      "text/plain": [
       "   county  station name                    name  height(m)  easting  northing  \\\n",
       "0  Antrim          5880         LH_RATHLIN_WEST         10   309200    451800   \n",
       "1  Carlow          4415     TULLOW (Waterworks)         76   284700    173400   \n",
       "2  Carlow          2414             BORRIS G.S.         85   272400    150700   \n",
       "3  Carlow          1214  CARLOW (SUGAR FACTORY)         58   272200    178400   \n",
       "4  Carlow           115     HACKETSTOWN RECTORY        182   297600    180500   \n",
       "\n",
       "  open year close year                   geometry  \n",
       "0      2000        NaN  POINT (-6.28028 55.30083)  \n",
       "1      1985        NaN  POINT (-6.74306 52.80528)  \n",
       "2      1944       1991  POINT (-6.93056 52.60278)  \n",
       "3      1953       1960  POINT (-6.92778 52.85139)  \n",
       "4      1910       1944  POINT (-6.55000 52.86667)  "
      ]
     },
     "execution_count": 15,
     "metadata": {},
     "output_type": "execute_result"
    }
   ],
   "source": [
    "stations_roi.head()"
   ]
  },
  {
   "cell_type": "code",
   "execution_count": 19,
   "metadata": {},
   "outputs": [
    {
     "data": {
      "text/plain": [
       "(223, 9)"
      ]
     },
     "execution_count": 19,
     "metadata": {},
     "output_type": "execute_result"
    }
   ],
   "source": [
    "stations_roi.shape"
   ]
  },
  {
   "cell_type": "markdown",
   "metadata": {},
   "source": [
    "## Met Office data for stations in Northern Ireland\n",
    "\n",
    "<https://www.metoffice.gov.uk/research/climate/maps-and-data/uk-synoptic-and-climate-stations>\n",
    "\n",
    "Met Office (2019): Met Office MIDAS Open: UK Land Surface Stations Data\n",
    "(1853-current). Centre for Environmental Data Analysis.\n",
    "<https://catalogue.ceda.ac.uk/uuid/dbd451271eb04662beade68da43546e1>"
   ]
  },
  {
   "cell_type": "code",
   "execution_count": 16,
   "metadata": {},
   "outputs": [],
   "source": [
    "SUB_DIR = os.path.join(\"data\", \"met\", \"MetOffice\")"
   ]
  },
  {
   "cell_type": "code",
   "execution_count": 19,
   "metadata": {},
   "outputs": [],
   "source": [
    "stations_ni = pd.read_csv(\n",
    "    os.path.join(\n",
    "        SUB_DIR,\n",
    "        \"midas-open_uk-daily-weather-obs_dv-202107_station-metadata.csv\",\n",
    "    ),\n",
    "    skiprows=46,\n",
    "    skipfooter=1,\n",
    "    engine=\"python\",\n",
    ")"
   ]
  },
  {
   "cell_type": "code",
   "execution_count": 20,
   "metadata": {},
   "outputs": [
    {
     "data": {
      "text/plain": [
       "(1588, 9)"
      ]
     },
     "execution_count": 20,
     "metadata": {},
     "output_type": "execute_result"
    }
   ],
   "source": [
    "stations_ni.shape"
   ]
  },
  {
   "cell_type": "code",
   "execution_count": 21,
   "metadata": {},
   "outputs": [
    {
     "data": {
      "text/html": [
       "<div>\n",
       "<style scoped>\n",
       "    .dataframe tbody tr th:only-of-type {\n",
       "        vertical-align: middle;\n",
       "    }\n",
       "\n",
       "    .dataframe tbody tr th {\n",
       "        vertical-align: top;\n",
       "    }\n",
       "\n",
       "    .dataframe thead th {\n",
       "        text-align: right;\n",
       "    }\n",
       "</style>\n",
       "<table border=\"1\" class=\"dataframe\">\n",
       "  <thead>\n",
       "    <tr style=\"text-align: right;\">\n",
       "      <th></th>\n",
       "      <th>src_id</th>\n",
       "      <th>station_name</th>\n",
       "      <th>station_file_name</th>\n",
       "      <th>historic_county</th>\n",
       "      <th>station_latitude</th>\n",
       "      <th>station_longitude</th>\n",
       "      <th>station_elevation</th>\n",
       "      <th>first_year</th>\n",
       "      <th>last_year</th>\n",
       "    </tr>\n",
       "  </thead>\n",
       "  <tbody>\n",
       "    <tr>\n",
       "      <th>0</th>\n",
       "      <td>1</td>\n",
       "      <td>FOULA</td>\n",
       "      <td>foula</td>\n",
       "      <td>shetland</td>\n",
       "      <td>60.154</td>\n",
       "      <td>-2.074</td>\n",
       "      <td>22</td>\n",
       "      <td>1985</td>\n",
       "      <td>2003</td>\n",
       "    </tr>\n",
       "    <tr>\n",
       "      <th>1</th>\n",
       "      <td>3</td>\n",
       "      <td>FAIR ISLE</td>\n",
       "      <td>fair-isle</td>\n",
       "      <td>shetland</td>\n",
       "      <td>59.526</td>\n",
       "      <td>-1.630</td>\n",
       "      <td>57</td>\n",
       "      <td>1974</td>\n",
       "      <td>2020</td>\n",
       "    </tr>\n",
       "    <tr>\n",
       "      <th>2</th>\n",
       "      <td>4</td>\n",
       "      <td>SUMBURGH</td>\n",
       "      <td>sumburgh</td>\n",
       "      <td>shetland</td>\n",
       "      <td>59.879</td>\n",
       "      <td>-1.299</td>\n",
       "      <td>7</td>\n",
       "      <td>1978</td>\n",
       "      <td>1996</td>\n",
       "    </tr>\n",
       "    <tr>\n",
       "      <th>3</th>\n",
       "      <td>5</td>\n",
       "      <td>HAMNAVOE</td>\n",
       "      <td>hamnavoe</td>\n",
       "      <td>shetland</td>\n",
       "      <td>60.104</td>\n",
       "      <td>-1.333</td>\n",
       "      <td>21</td>\n",
       "      <td>1962</td>\n",
       "      <td>1972</td>\n",
       "    </tr>\n",
       "    <tr>\n",
       "      <th>4</th>\n",
       "      <td>7</td>\n",
       "      <td>COLLAFIRTH</td>\n",
       "      <td>collafirth</td>\n",
       "      <td>shetland</td>\n",
       "      <td>60.533</td>\n",
       "      <td>-1.391</td>\n",
       "      <td>228</td>\n",
       "      <td>1963</td>\n",
       "      <td>1991</td>\n",
       "    </tr>\n",
       "  </tbody>\n",
       "</table>\n",
       "</div>"
      ],
      "text/plain": [
       "   src_id station_name station_file_name historic_county  station_latitude  \\\n",
       "0       1        FOULA             foula        shetland            60.154   \n",
       "1       3    FAIR ISLE         fair-isle        shetland            59.526   \n",
       "2       4     SUMBURGH          sumburgh        shetland            59.879   \n",
       "3       5     HAMNAVOE          hamnavoe        shetland            60.104   \n",
       "4       7   COLLAFIRTH        collafirth        shetland            60.533   \n",
       "\n",
       "   station_longitude  station_elevation  first_year  last_year  \n",
       "0             -2.074                 22        1985       2003  \n",
       "1             -1.630                 57        1974       2020  \n",
       "2             -1.299                  7        1978       1996  \n",
       "3             -1.333                 21        1962       1972  \n",
       "4             -1.391                228        1963       1991  "
      ]
     },
     "execution_count": 21,
     "metadata": {},
     "output_type": "execute_result"
    }
   ],
   "source": [
    "stations_ni.head()"
   ]
  },
  {
   "cell_type": "code",
   "execution_count": 22,
   "metadata": {},
   "outputs": [],
   "source": [
    "# list of historic counties in NI\n",
    "# https://en.wikipedia.org/wiki/Historic_counties_of_the_United_Kingdom\n",
    "counties_ni = [\n",
    "    \"antrim\",\n",
    "    \"armagh\",\n",
    "    \"down\",\n",
    "    \"fermanagh\",\n",
    "    \"londonderry\",\n",
    "    \"tyrone\",\n",
    "]"
   ]
  },
  {
   "cell_type": "code",
   "execution_count": 23,
   "metadata": {},
   "outputs": [],
   "source": [
    "# keep only NI data\n",
    "stations_ni = stations_ni[stations_ni[\"historic_county\"].isin(counties_ni)]"
   ]
  },
  {
   "cell_type": "code",
   "execution_count": 24,
   "metadata": {},
   "outputs": [],
   "source": [
    "# convert coordinates to well known text\n",
    "stations_ni[\"wkt\"] = (\n",
    "    \"POINT (\"\n",
    "    + stations_ni[\"station_longitude\"].astype(str)\n",
    "    + \" \"\n",
    "    + stations_ni[\"station_latitude\"].astype(str)\n",
    "    + \")\"\n",
    ")"
   ]
  },
  {
   "cell_type": "code",
   "execution_count": 25,
   "metadata": {},
   "outputs": [],
   "source": [
    "# convert wkt to geometry\n",
    "stations_ni = gpd.GeoDataFrame(\n",
    "    stations_ni,\n",
    "    geometry=gpd.GeoSeries.from_wkt(stations_ni[\"wkt\"]),\n",
    "    crs=\"EPSG:4326\",\n",
    ")"
   ]
  },
  {
   "cell_type": "code",
   "execution_count": 26,
   "metadata": {},
   "outputs": [],
   "source": [
    "# drop wkt, lon, lat column\n",
    "stations_ni.drop(\n",
    "    columns=[\"wkt\", \"station_longitude\", \"station_latitude\"], inplace=True\n",
    ")"
   ]
  },
  {
   "cell_type": "code",
   "execution_count": 31,
   "metadata": {},
   "outputs": [],
   "source": [
    "# # filter stations that have data for the historic reference period\n",
    "# stations_ni = stations_ni[\n",
    "#     (stations_ni[\"last_year\"] >= 2005) & (stations_ni[\"first_year\"] <= 1976)\n",
    "# ]"
   ]
  },
  {
   "cell_type": "code",
   "execution_count": 27,
   "metadata": {},
   "outputs": [],
   "source": [
    "# rename Londonderry to Derry\n",
    "stations_ni = stations_ni.replace(\n",
    "    {\"historic_county\": {\"londonderry\": \"derry\"}}\n",
    ")"
   ]
  },
  {
   "cell_type": "code",
   "execution_count": 28,
   "metadata": {},
   "outputs": [
    {
     "data": {
      "text/html": [
       "<div>\n",
       "<style scoped>\n",
       "    .dataframe tbody tr th:only-of-type {\n",
       "        vertical-align: middle;\n",
       "    }\n",
       "\n",
       "    .dataframe tbody tr th {\n",
       "        vertical-align: top;\n",
       "    }\n",
       "\n",
       "    .dataframe thead th {\n",
       "        text-align: right;\n",
       "    }\n",
       "</style>\n",
       "<table border=\"1\" class=\"dataframe\">\n",
       "  <thead>\n",
       "    <tr style=\"text-align: right;\">\n",
       "      <th></th>\n",
       "      <th>src_id</th>\n",
       "      <th>station_name</th>\n",
       "      <th>station_file_name</th>\n",
       "      <th>historic_county</th>\n",
       "      <th>station_elevation</th>\n",
       "      <th>first_year</th>\n",
       "      <th>last_year</th>\n",
       "      <th>geometry</th>\n",
       "    </tr>\n",
       "  </thead>\n",
       "  <tbody>\n",
       "    <tr>\n",
       "      <th>301</th>\n",
       "      <td>24924</td>\n",
       "      <td>DOWNPATRICK, BALLYGALLUM</td>\n",
       "      <td>downpatrick-ballygallum</td>\n",
       "      <td>down</td>\n",
       "      <td>18</td>\n",
       "      <td>1999</td>\n",
       "      <td>2000</td>\n",
       "      <td>POINT (-5.68000 54.29400)</td>\n",
       "    </tr>\n",
       "    <tr>\n",
       "      <th>673</th>\n",
       "      <td>25353</td>\n",
       "      <td>PEATLANDS</td>\n",
       "      <td>peatlands</td>\n",
       "      <td>armagh</td>\n",
       "      <td>34</td>\n",
       "      <td>2000</td>\n",
       "      <td>2019</td>\n",
       "      <td>POINT (-6.62000 54.48300)</td>\n",
       "    </tr>\n",
       "    <tr>\n",
       "      <th>781</th>\n",
       "      <td>17292</td>\n",
       "      <td>PORTRUSH</td>\n",
       "      <td>portrush</td>\n",
       "      <td>antrim</td>\n",
       "      <td>8</td>\n",
       "      <td>1996</td>\n",
       "      <td>2002</td>\n",
       "      <td>POINT (-6.65600 55.20800)</td>\n",
       "    </tr>\n",
       "    <tr>\n",
       "      <th>830</th>\n",
       "      <td>17341</td>\n",
       "      <td>BALLYGAWLEY PRIMARY SCHOOL</td>\n",
       "      <td>ballygawley-primary-school</td>\n",
       "      <td>tyrone</td>\n",
       "      <td>88</td>\n",
       "      <td>1996</td>\n",
       "      <td>1998</td>\n",
       "      <td>POINT (-7.03500 54.46500)</td>\n",
       "    </tr>\n",
       "    <tr>\n",
       "      <th>1232</th>\n",
       "      <td>1425</td>\n",
       "      <td>COOLKEERAGH POWER STATION</td>\n",
       "      <td>coolkeeragh-power-station</td>\n",
       "      <td>derry</td>\n",
       "      <td>3</td>\n",
       "      <td>1971</td>\n",
       "      <td>1980</td>\n",
       "      <td>POINT (-7.25100 55.04300)</td>\n",
       "    </tr>\n",
       "  </tbody>\n",
       "</table>\n",
       "</div>"
      ],
      "text/plain": [
       "      src_id                station_name           station_file_name  \\\n",
       "301    24924    DOWNPATRICK, BALLYGALLUM     downpatrick-ballygallum   \n",
       "673    25353                   PEATLANDS                   peatlands   \n",
       "781    17292                    PORTRUSH                    portrush   \n",
       "830    17341  BALLYGAWLEY PRIMARY SCHOOL  ballygawley-primary-school   \n",
       "1232    1425   COOLKEERAGH POWER STATION   coolkeeragh-power-station   \n",
       "\n",
       "     historic_county  station_elevation  first_year  last_year  \\\n",
       "301             down                 18        1999       2000   \n",
       "673           armagh                 34        2000       2019   \n",
       "781           antrim                  8        1996       2002   \n",
       "830           tyrone                 88        1996       1998   \n",
       "1232           derry                  3        1971       1980   \n",
       "\n",
       "                       geometry  \n",
       "301   POINT (-5.68000 54.29400)  \n",
       "673   POINT (-6.62000 54.48300)  \n",
       "781   POINT (-6.65600 55.20800)  \n",
       "830   POINT (-7.03500 54.46500)  \n",
       "1232  POINT (-7.25100 55.04300)  "
      ]
     },
     "execution_count": 28,
     "metadata": {},
     "output_type": "execute_result"
    }
   ],
   "source": [
    "stations_ni.head()"
   ]
  },
  {
   "cell_type": "code",
   "execution_count": 29,
   "metadata": {},
   "outputs": [
    {
     "data": {
      "text/plain": [
       "(156, 8)"
      ]
     },
     "execution_count": 29,
     "metadata": {},
     "output_type": "execute_result"
    }
   ],
   "source": [
    "stations_ni.shape"
   ]
  },
  {
   "cell_type": "markdown",
   "metadata": {},
   "source": [
    "## Plot"
   ]
  },
  {
   "cell_type": "code",
   "execution_count": 31,
   "metadata": {},
   "outputs": [],
   "source": [
    "# Ireland boundary\n",
    "GPKG_BOUNDARY = os.path.join(\"data\", \"boundaries\", \"boundaries.gpkg\")\n",
    "ie = gpd.read_file(GPKG_BOUNDARY, layer=\"NUTS_RG_01M_2021_2157_IE\")"
   ]
  },
  {
   "cell_type": "code",
   "execution_count": 58,
   "metadata": {},
   "outputs": [
    {
     "data": {
      "image/png": "[encoded data removed]",
      "text/plain": [
       "<Figure size 864x864 with 1 Axes>"
      ]
     },
     "metadata": {},
     "output_type": "display_data"
    }
   ],
   "source": [
    "base = ie.plot(\n",
    "    color=\"navajowhite\",\n",
    "    figsize=(9, 9),\n",
    "    edgecolor=\"darkslategrey\",\n",
    "    linewidth=0.5,\n",
    ")\n",
    "stations_roi.to_crs(ie.crs).to_crs(ie.crs).plot(\n",
    "    ax=base, color=\"royalblue\", markersize=5, label=\"Met Éireann\"\n",
    ")\n",
    "stations_ni.to_crs(ie.crs).plot(\n",
    "    ax=base, color=\"crimson\", markersize=5, label=\"Met Office\"\n",
    ")\n",
    "\n",
    "# base.xaxis.set_major_formatter(cplt.longitude_tick_format)\n",
    "# base.yaxis.set_major_formatter(cplt.latitude_tick_format)\n",
    "# base.yaxis.set_major_locator(ticker.MultipleLocator(1))\n",
    "base.tick_params(labelbottom=False, labelleft=False)\n",
    "\n",
    "plt.title(\"Meteorological stations in the Island of Ireland\")\n",
    "plt.text(\n",
    "    625000,\n",
    "    500000,\n",
    "    \"© Met Éireann\\n© Met Office, NERC EDS CEDA\\n\"\n",
    "    + \"© Ordnance Survey Ireland\\n\"\n",
    "    \"© Ordnance Survey Northern Ireland\",\n",
    ")\n",
    "plt.legend(loc=\"upper left\")\n",
    "\n",
    "plt.show()"
   ]
  },
  {
   "cell_type": "code",
   "execution_count": 38,
   "metadata": {},
   "outputs": [],
   "source": [
    "# save as GPKG\n",
    "GPKG_MET = os.path.join(\"data\", \"met\", \"met_stations.gpkg\")\n",
    "stations_roi.to_file(GPKG_MET, layer=\"MetEireann\")\n",
    "stations_ni.to_file(GPKG_MET, layer=\"MetOffice\")"
   ]
  }
 ],
 "metadata": {
  "kernelspec": {
   "display_name": "Python 3.10.6 ('ClimAg')",
   "language": "python",
   "name": "python3"
  },
  "language_info": {
   "codemirror_mode": {
    "name": "ipython",
    "version": 3
   },
   "file_extension": ".py",
   "mimetype": "text/x-python",
   "name": "python",
   "nbconvert_exporter": "python",
   "pygments_lexer": "ipython3",
   "version": "3.10.6"
  },
  "vscode": {
   "interpreter": {
    "hash": "c4e659d1bedfc73d1fd31d7c0e2c79d7cc7aac22204994016c65a9e44686eb91"
   }
  }
 },
 "nbformat": 4,
 "nbformat_minor": 2
}
