{
 "cells": [
  {
   "attachments": {},
   "cell_type": "markdown",
   "metadata": {},
   "source": [
    "# Growing season definition based on Connaughton (1973)"
   ]
  },
  {
   "cell_type": "code",
   "execution_count": 1,
   "metadata": {},
   "outputs": [],
   "source": [
    "import os\n",
    "from datetime import datetime, timezone\n",
    "import pandas as pd\n",
    "import pooch\n",
    "import numpy as np"
   ]
  },
  {
   "cell_type": "code",
   "execution_count": 2,
   "metadata": {},
   "outputs": [
    {
     "name": "stdout",
     "output_type": "stream",
     "text": [
      "Last updated: 2022-12-07 14:20:30.340631+00:00\n"
     ]
    }
   ],
   "source": [
    "print(\"Last updated:\", datetime.now(tz=timezone.utc))"
   ]
  },
  {
   "cell_type": "code",
   "execution_count": 3,
   "metadata": {},
   "outputs": [],
   "source": [
    "# DATA_DRIVE = \"/run/media/nms/Elements\"\n",
    "DATA_DRIVE = \"data\""
   ]
  },
  {
   "cell_type": "markdown",
   "metadata": {},
   "source": [
    "## Valentia Observatory, Co. Kerry\n",
    "\n",
    "<https://data.gov.ie/dataset/valentia-observatory-daily-data>"
   ]
  },
  {
   "cell_type": "code",
   "execution_count": 4,
   "metadata": {},
   "outputs": [],
   "source": [
    "URL = \"https://cli.fusio.net/cli/climate_data/webdata/dly2275.csv\"\n",
    "SUB_DIR = os.path.join(DATA_DRIVE, \"MetEireann\")\n",
    "KNOWN_HASH = \"0fc478a2d8e475f965bbf05e26c1efd6fd7f33468e152ce02dc51b042a771e85\"\n",
    "os.makedirs(SUB_DIR, exist_ok=True)\n",
    "FILE_NAME = \"dly2275.csv\""
   ]
  },
  {
   "cell_type": "code",
   "execution_count": 5,
   "metadata": {},
   "outputs": [
    {
     "data": {
      "text/plain": [
       "'/run/media/nms/Backup/Documents/Git/ClimAg/ClimAg/data/MetEireann/dly2275.csv'"
      ]
     },
     "execution_count": 5,
     "metadata": {},
     "output_type": "execute_result"
    }
   ],
   "source": [
    "pooch.retrieve(url=URL, known_hash=KNOWN_HASH, fname=FILE_NAME, path=SUB_DIR)"
   ]
  },
  {
   "cell_type": "code",
   "execution_count": 6,
   "metadata": {},
   "outputs": [],
   "source": [
    "val = pd.read_csv(\n",
    "    os.path.join(SUB_DIR, FILE_NAME), skiprows=24, parse_dates=[\"date\"]\n",
    ")"
   ]
  },
  {
   "cell_type": "code",
   "execution_count": 7,
   "metadata": {},
   "outputs": [
    {
     "data": {
      "text/html": [
       "<div>\n",
       "<style scoped>\n",
       "    .dataframe tbody tr th:only-of-type {\n",
       "        vertical-align: middle;\n",
       "    }\n",
       "\n",
       "    .dataframe tbody tr th {\n",
       "        vertical-align: top;\n",
       "    }\n",
       "\n",
       "    .dataframe thead th {\n",
       "        text-align: right;\n",
       "    }\n",
       "</style>\n",
       "<table border=\"1\" class=\"dataframe\">\n",
       "  <thead>\n",
       "    <tr style=\"text-align: right;\">\n",
       "      <th></th>\n",
       "      <th>date</th>\n",
       "      <th>ind</th>\n",
       "      <th>maxtp</th>\n",
       "      <th>ind.1</th>\n",
       "      <th>mintp</th>\n",
       "      <th>igmin</th>\n",
       "      <th>gmin</th>\n",
       "      <th>ind.2</th>\n",
       "      <th>rain</th>\n",
       "      <th>cbl</th>\n",
       "      <th>...</th>\n",
       "      <th>ind.5</th>\n",
       "      <th>hg</th>\n",
       "      <th>sun</th>\n",
       "      <th>glorad</th>\n",
       "      <th>soil</th>\n",
       "      <th>pe</th>\n",
       "      <th>evap</th>\n",
       "      <th>smd_wd</th>\n",
       "      <th>smd_md</th>\n",
       "      <th>smd_pd</th>\n",
       "    </tr>\n",
       "  </thead>\n",
       "  <tbody>\n",
       "    <tr>\n",
       "      <th>0</th>\n",
       "      <td>1942-01-01</td>\n",
       "      <td>0</td>\n",
       "      <td>11.1</td>\n",
       "      <td>0</td>\n",
       "      <td>9.8</td>\n",
       "      <td>0</td>\n",
       "      <td>8.0</td>\n",
       "      <td>0</td>\n",
       "      <td>1.7</td>\n",
       "      <td>1026.2</td>\n",
       "      <td>...</td>\n",
       "      <td>0</td>\n",
       "      <td>32</td>\n",
       "      <td></td>\n",
       "      <td></td>\n",
       "      <td></td>\n",
       "      <td>0.9</td>\n",
       "      <td>1.1</td>\n",
       "      <td></td>\n",
       "      <td></td>\n",
       "      <td></td>\n",
       "    </tr>\n",
       "    <tr>\n",
       "      <th>1</th>\n",
       "      <td>1942-01-02</td>\n",
       "      <td>0</td>\n",
       "      <td>11.6</td>\n",
       "      <td>0</td>\n",
       "      <td>10.0</td>\n",
       "      <td>0</td>\n",
       "      <td>8.6</td>\n",
       "      <td>0</td>\n",
       "      <td>4.6</td>\n",
       "      <td>1023.8</td>\n",
       "      <td>...</td>\n",
       "      <td>0</td>\n",
       "      <td>33</td>\n",
       "      <td></td>\n",
       "      <td></td>\n",
       "      <td></td>\n",
       "      <td>0.6</td>\n",
       "      <td>0.8</td>\n",
       "      <td></td>\n",
       "      <td></td>\n",
       "      <td></td>\n",
       "    </tr>\n",
       "    <tr>\n",
       "      <th>2</th>\n",
       "      <td>1942-01-03</td>\n",
       "      <td>0</td>\n",
       "      <td>12.1</td>\n",
       "      <td>0</td>\n",
       "      <td>9.8</td>\n",
       "      <td>0</td>\n",
       "      <td>9.4</td>\n",
       "      <td>0</td>\n",
       "      <td>16.7</td>\n",
       "      <td>1014.5</td>\n",
       "      <td>...</td>\n",
       "      <td>0</td>\n",
       "      <td>39</td>\n",
       "      <td></td>\n",
       "      <td></td>\n",
       "      <td></td>\n",
       "      <td>0.3</td>\n",
       "      <td>0.5</td>\n",
       "      <td></td>\n",
       "      <td></td>\n",
       "      <td></td>\n",
       "    </tr>\n",
       "    <tr>\n",
       "      <th>3</th>\n",
       "      <td>1942-01-04</td>\n",
       "      <td>0</td>\n",
       "      <td>9.9</td>\n",
       "      <td>0</td>\n",
       "      <td>4.0</td>\n",
       "      <td>0</td>\n",
       "      <td>6.7</td>\n",
       "      <td>0</td>\n",
       "      <td>3.5</td>\n",
       "      <td>1012.0</td>\n",
       "      <td>...</td>\n",
       "      <td>0</td>\n",
       "      <td>37</td>\n",
       "      <td></td>\n",
       "      <td></td>\n",
       "      <td></td>\n",
       "      <td>0.5</td>\n",
       "      <td>0.7</td>\n",
       "      <td></td>\n",
       "      <td></td>\n",
       "      <td></td>\n",
       "    </tr>\n",
       "    <tr>\n",
       "      <th>4</th>\n",
       "      <td>1942-01-05</td>\n",
       "      <td>0</td>\n",
       "      <td>4.9</td>\n",
       "      <td>0</td>\n",
       "      <td>1.4</td>\n",
       "      <td>0</td>\n",
       "      <td>0.4</td>\n",
       "      <td>0</td>\n",
       "      <td>0.0</td>\n",
       "      <td>1022.5</td>\n",
       "      <td>...</td>\n",
       "      <td>0</td>\n",
       "      <td>45</td>\n",
       "      <td></td>\n",
       "      <td></td>\n",
       "      <td></td>\n",
       "      <td>0.9</td>\n",
       "      <td>1.1</td>\n",
       "      <td></td>\n",
       "      <td></td>\n",
       "      <td></td>\n",
       "    </tr>\n",
       "  </tbody>\n",
       "</table>\n",
       "<p>5 rows × 25 columns</p>\n",
       "</div>"
      ],
      "text/plain": [
       "        date  ind  maxtp  ind.1  mintp igmin gmin  ind.2  rain     cbl  ...  \\\n",
       "0 1942-01-01    0   11.1      0    9.8     0  8.0      0   1.7  1026.2  ...   \n",
       "1 1942-01-02    0   11.6      0   10.0     0  8.6      0   4.6  1023.8  ...   \n",
       "2 1942-01-03    0   12.1      0    9.8     0  9.4      0  16.7  1014.5  ...   \n",
       "3 1942-01-04    0    9.9      0    4.0     0  6.7      0   3.5  1012.0  ...   \n",
       "4 1942-01-05    0    4.9      0    1.4     0  0.4      0   0.0  1022.5  ...   \n",
       "\n",
       "  ind.5  hg sun  glorad soil   pe evap smd_wd smd_md smd_pd  \n",
       "0     0  32                   0.9  1.1                       \n",
       "1     0  33                   0.6  0.8                       \n",
       "2     0  39                   0.3  0.5                       \n",
       "3     0  37                   0.5  0.7                       \n",
       "4     0  45                   0.9  1.1                       \n",
       "\n",
       "[5 rows x 25 columns]"
      ]
     },
     "execution_count": 7,
     "metadata": {},
     "output_type": "execute_result"
    }
   ],
   "source": [
    "val.head()"
   ]
  },
  {
   "cell_type": "code",
   "execution_count": 8,
   "metadata": {},
   "outputs": [],
   "source": [
    "# keep only min and max air temps\n",
    "val = val[[\"date\", \"maxtp\", \"mintp\"]]"
   ]
  },
  {
   "cell_type": "code",
   "execution_count": 9,
   "metadata": {},
   "outputs": [],
   "source": [
    "# filter data for 1954 - 1968\n",
    "val = val[(val[\"date\"].dt.year >= 1954) & (val[\"date\"].dt.year <= 1968)]"
   ]
  },
  {
   "cell_type": "code",
   "execution_count": 10,
   "metadata": {},
   "outputs": [
    {
     "data": {
      "text/html": [
       "<div>\n",
       "<style scoped>\n",
       "    .dataframe tbody tr th:only-of-type {\n",
       "        vertical-align: middle;\n",
       "    }\n",
       "\n",
       "    .dataframe tbody tr th {\n",
       "        vertical-align: top;\n",
       "    }\n",
       "\n",
       "    .dataframe thead th {\n",
       "        text-align: right;\n",
       "    }\n",
       "</style>\n",
       "<table border=\"1\" class=\"dataframe\">\n",
       "  <thead>\n",
       "    <tr style=\"text-align: right;\">\n",
       "      <th></th>\n",
       "      <th>date</th>\n",
       "      <th>maxtp</th>\n",
       "      <th>mintp</th>\n",
       "    </tr>\n",
       "  </thead>\n",
       "  <tbody>\n",
       "    <tr>\n",
       "      <th>4383</th>\n",
       "      <td>1954-01-01</td>\n",
       "      <td>5.8</td>\n",
       "      <td>-1.6</td>\n",
       "    </tr>\n",
       "    <tr>\n",
       "      <th>4384</th>\n",
       "      <td>1954-01-02</td>\n",
       "      <td>8.8</td>\n",
       "      <td>3.9</td>\n",
       "    </tr>\n",
       "    <tr>\n",
       "      <th>4385</th>\n",
       "      <td>1954-01-03</td>\n",
       "      <td>10.6</td>\n",
       "      <td>4.6</td>\n",
       "    </tr>\n",
       "    <tr>\n",
       "      <th>4386</th>\n",
       "      <td>1954-01-04</td>\n",
       "      <td>6.6</td>\n",
       "      <td>2.4</td>\n",
       "    </tr>\n",
       "    <tr>\n",
       "      <th>4387</th>\n",
       "      <td>1954-01-05</td>\n",
       "      <td>6.5</td>\n",
       "      <td>0.8</td>\n",
       "    </tr>\n",
       "  </tbody>\n",
       "</table>\n",
       "</div>"
      ],
      "text/plain": [
       "           date  maxtp  mintp\n",
       "4383 1954-01-01    5.8   -1.6\n",
       "4384 1954-01-02    8.8    3.9\n",
       "4385 1954-01-03   10.6    4.6\n",
       "4386 1954-01-04    6.6    2.4\n",
       "4387 1954-01-05    6.5    0.8"
      ]
     },
     "execution_count": 10,
     "metadata": {},
     "output_type": "execute_result"
    }
   ],
   "source": [
    "val.head()"
   ]
  },
  {
   "cell_type": "code",
   "execution_count": 11,
   "metadata": {},
   "outputs": [],
   "source": [
    "# calculate mean air temperature\n",
    "val[\"meantp\"] = val[[\"maxtp\", \"mintp\"]].mean(axis=1)"
   ]
  },
  {
   "cell_type": "code",
   "execution_count": 12,
   "metadata": {},
   "outputs": [],
   "source": [
    "# keep only mean and date columns\n",
    "val = val[[\"date\", \"meantp\"]]"
   ]
  },
  {
   "cell_type": "code",
   "execution_count": 13,
   "metadata": {},
   "outputs": [],
   "source": [
    "# return only mean values above 4, and subtract by 4\n",
    "val.loc[(val[\"meantp\"] >= 4.0), \"tgrowth\"] = val[\"meantp\"] - 4.0"
   ]
  },
  {
   "cell_type": "code",
   "execution_count": 14,
   "metadata": {},
   "outputs": [
    {
     "data": {
      "text/html": [
       "<div>\n",
       "<style scoped>\n",
       "    .dataframe tbody tr th:only-of-type {\n",
       "        vertical-align: middle;\n",
       "    }\n",
       "\n",
       "    .dataframe tbody tr th {\n",
       "        vertical-align: top;\n",
       "    }\n",
       "\n",
       "    .dataframe thead th {\n",
       "        text-align: right;\n",
       "    }\n",
       "</style>\n",
       "<table border=\"1\" class=\"dataframe\">\n",
       "  <thead>\n",
       "    <tr style=\"text-align: right;\">\n",
       "      <th></th>\n",
       "      <th>date</th>\n",
       "      <th>meantp</th>\n",
       "      <th>tgrowth</th>\n",
       "    </tr>\n",
       "  </thead>\n",
       "  <tbody>\n",
       "    <tr>\n",
       "      <th>4383</th>\n",
       "      <td>1954-01-01</td>\n",
       "      <td>2.10</td>\n",
       "      <td>NaN</td>\n",
       "    </tr>\n",
       "    <tr>\n",
       "      <th>4384</th>\n",
       "      <td>1954-01-02</td>\n",
       "      <td>6.35</td>\n",
       "      <td>2.35</td>\n",
       "    </tr>\n",
       "    <tr>\n",
       "      <th>4385</th>\n",
       "      <td>1954-01-03</td>\n",
       "      <td>7.60</td>\n",
       "      <td>3.60</td>\n",
       "    </tr>\n",
       "    <tr>\n",
       "      <th>4386</th>\n",
       "      <td>1954-01-04</td>\n",
       "      <td>4.50</td>\n",
       "      <td>0.50</td>\n",
       "    </tr>\n",
       "    <tr>\n",
       "      <th>4387</th>\n",
       "      <td>1954-01-05</td>\n",
       "      <td>3.65</td>\n",
       "      <td>NaN</td>\n",
       "    </tr>\n",
       "  </tbody>\n",
       "</table>\n",
       "</div>"
      ],
      "text/plain": [
       "           date  meantp  tgrowth\n",
       "4383 1954-01-01    2.10      NaN\n",
       "4384 1954-01-02    6.35     2.35\n",
       "4385 1954-01-03    7.60     3.60\n",
       "4386 1954-01-04    4.50     0.50\n",
       "4387 1954-01-05    3.65      NaN"
      ]
     },
     "execution_count": 14,
     "metadata": {},
     "output_type": "execute_result"
    }
   ],
   "source": [
    "val.head()"
   ]
  },
  {
   "cell_type": "code",
   "execution_count": 15,
   "metadata": {},
   "outputs": [],
   "source": [
    "# extract data to determine beginning of growing season\n",
    "st_1 = {}\n",
    "for y in val[\"date\"].dt.year.unique():\n",
    "    st_1[y] = val[\n",
    "        (val[\"date\"] >= f\"{y}-01-01\") & (val[\"date\"] <= f\"{y}-01-28\")\n",
    "    ]"
   ]
  },
  {
   "cell_type": "code",
   "execution_count": 16,
   "metadata": {},
   "outputs": [],
   "source": [
    "# extract data to determine end of growing season\n",
    "st_2 = {}\n",
    "for y in val[\"date\"].dt.year.unique():\n",
    "    if y < val[\"date\"].dt.year.max():\n",
    "        st_2[y] = val[\n",
    "            (val[\"date\"] >= f\"{y}-01-01\") & (val[\"date\"] <= f\"{y + 1}-01-09\")\n",
    "        ]"
   ]
  },
  {
   "cell_type": "code",
   "execution_count": 17,
   "metadata": {},
   "outputs": [],
   "source": [
    "# sum of temperatures at the beginning\n",
    "st_1_list = []\n",
    "for y in st_1.keys():\n",
    "    st_1_list.append(list(st_1[y][\"tgrowth\"].cumsum())[-1])\n",
    "# remove NaN\n",
    "st_1_list = [n for n in st_1_list if str(n) != \"nan\"]"
   ]
  },
  {
   "cell_type": "code",
   "execution_count": 18,
   "metadata": {},
   "outputs": [],
   "source": [
    "# sum of temperatures at the end\n",
    "st_2_list = []\n",
    "for y in st_2.keys():\n",
    "    st_2_list.append(list(st_2[y][\"tgrowth\"].cumsum())[-1])\n",
    "# remove NaN\n",
    "st_2_list = [n for n in st_2_list if str(n) != \"nan\"]"
   ]
  },
  {
   "cell_type": "code",
   "execution_count": 19,
   "metadata": {},
   "outputs": [
    {
     "data": {
      "text/plain": [
       "[95.0,\n",
       " 58.2,\n",
       " 76.95,\n",
       " 93.59999999999998,\n",
       " 97.45,\n",
       " 66.25,\n",
       " 73.19999999999999,\n",
       " 79.45000000000002,\n",
       " 91.35000000000001,\n",
       " 99.99999999999997,\n",
       " 80.64999999999998,\n",
       " 77.9,\n",
       " 112.84999999999998]"
      ]
     },
     "execution_count": 19,
     "metadata": {},
     "output_type": "execute_result"
    }
   ],
   "source": [
    "st_1_list"
   ]
  },
  {
   "cell_type": "code",
   "execution_count": 20,
   "metadata": {},
   "outputs": [
    {
     "data": {
      "text/plain": [
       "[2391.8000000000025,\n",
       " 2517.350000000001,\n",
       " 2415.1499999999996,\n",
       " 2600.9,\n",
       " 2684.349999999998,\n",
       " 2415.600000000001,\n",
       " 2487.649999999999,\n",
       " 2219.499999999999,\n",
       " 2510.1000000000004,\n",
       " 2332.2999999999997,\n",
       " 2276.65]"
      ]
     },
     "execution_count": 20,
     "metadata": {},
     "output_type": "execute_result"
    }
   ],
   "source": [
    "st_2_list"
   ]
  },
  {
   "cell_type": "code",
   "execution_count": 21,
   "metadata": {},
   "outputs": [
    {
     "data": {
      "text/plain": [
       "84.83461538461538"
      ]
     },
     "execution_count": 21,
     "metadata": {},
     "output_type": "execute_result"
    }
   ],
   "source": [
    "# mean sum of temperatures at the beginning of the growing season\n",
    "np.mean(st_1_list)"
   ]
  },
  {
   "cell_type": "code",
   "execution_count": 22,
   "metadata": {},
   "outputs": [
    {
     "data": {
      "text/plain": [
       "2441.0318181818184"
      ]
     },
     "execution_count": 22,
     "metadata": {},
     "output_type": "execute_result"
    }
   ],
   "source": [
    "# mean sum of temperatures at the end of the growing season\n",
    "np.mean(st_2_list)"
   ]
  },
  {
   "cell_type": "markdown",
   "metadata": {},
   "source": [
    "## Shannon Airport, Co. Clare\n",
    "\n",
    "<https://data.gov.ie/dataset/shannon-airport-daily-data>"
   ]
  },
  {
   "cell_type": "code",
   "execution_count": 23,
   "metadata": {},
   "outputs": [],
   "source": [
    "URL = \"https://cli.fusio.net/cli/climate_data/webdata/dly518.csv\"\n",
    "SUB_DIR = os.path.join(DATA_DRIVE, \"MetEireann\")\n",
    "KNOWN_HASH = \"bf3eaaa3f060f548540cb463c81ef886472eea4d03e011c60f7ac82d82f61bfb\"\n",
    "os.makedirs(SUB_DIR, exist_ok=True)\n",
    "FILE_NAME = \"dly518.csv\""
   ]
  },
  {
   "cell_type": "code",
   "execution_count": 24,
   "metadata": {},
   "outputs": [
    {
     "data": {
      "text/plain": [
       "'/run/media/nms/Backup/Documents/Git/ClimAg/ClimAg/data/MetEireann/dly518.csv'"
      ]
     },
     "execution_count": 24,
     "metadata": {},
     "output_type": "execute_result"
    }
   ],
   "source": [
    "pooch.retrieve(url=URL, known_hash=KNOWN_HASH, fname=FILE_NAME, path=SUB_DIR)"
   ]
  },
  {
   "cell_type": "code",
   "execution_count": 25,
   "metadata": {},
   "outputs": [],
   "source": [
    "dat = pd.read_csv(\n",
    "    os.path.join(SUB_DIR, FILE_NAME), skiprows=24, parse_dates=[\"date\"]\n",
    ")"
   ]
  },
  {
   "cell_type": "code",
   "execution_count": 26,
   "metadata": {},
   "outputs": [
    {
     "data": {
      "text/html": [
       "<div>\n",
       "<style scoped>\n",
       "    .dataframe tbody tr th:only-of-type {\n",
       "        vertical-align: middle;\n",
       "    }\n",
       "\n",
       "    .dataframe tbody tr th {\n",
       "        vertical-align: top;\n",
       "    }\n",
       "\n",
       "    .dataframe thead th {\n",
       "        text-align: right;\n",
       "    }\n",
       "</style>\n",
       "<table border=\"1\" class=\"dataframe\">\n",
       "  <thead>\n",
       "    <tr style=\"text-align: right;\">\n",
       "      <th></th>\n",
       "      <th>date</th>\n",
       "      <th>ind</th>\n",
       "      <th>maxtp</th>\n",
       "      <th>ind.1</th>\n",
       "      <th>mintp</th>\n",
       "      <th>igmin</th>\n",
       "      <th>gmin</th>\n",
       "      <th>ind.2</th>\n",
       "      <th>rain</th>\n",
       "      <th>cbl</th>\n",
       "      <th>...</th>\n",
       "      <th>ind.5</th>\n",
       "      <th>hg</th>\n",
       "      <th>sun</th>\n",
       "      <th>dos</th>\n",
       "      <th>soil</th>\n",
       "      <th>pe</th>\n",
       "      <th>evap</th>\n",
       "      <th>smd_wd</th>\n",
       "      <th>smd_md</th>\n",
       "      <th>smd_pd</th>\n",
       "    </tr>\n",
       "  </thead>\n",
       "  <tbody>\n",
       "    <tr>\n",
       "      <th>0</th>\n",
       "      <td>1945-09-01</td>\n",
       "      <td>0</td>\n",
       "      <td>19.2</td>\n",
       "      <td>0</td>\n",
       "      <td>14.4</td>\n",
       "      <td>0</td>\n",
       "      <td>13.6</td>\n",
       "      <td>0</td>\n",
       "      <td>0.2</td>\n",
       "      <td>1013.8</td>\n",
       "      <td>...</td>\n",
       "      <td>0</td>\n",
       "      <td>27</td>\n",
       "      <td>1.6</td>\n",
       "      <td>0</td>\n",
       "      <td></td>\n",
       "      <td>1.6</td>\n",
       "      <td>2.3</td>\n",
       "      <td></td>\n",
       "      <td></td>\n",
       "      <td></td>\n",
       "    </tr>\n",
       "    <tr>\n",
       "      <th>1</th>\n",
       "      <td>1945-09-02</td>\n",
       "      <td>0</td>\n",
       "      <td>20.7</td>\n",
       "      <td>0</td>\n",
       "      <td>14.8</td>\n",
       "      <td>0</td>\n",
       "      <td>13.4</td>\n",
       "      <td>3</td>\n",
       "      <td>0.0</td>\n",
       "      <td>1018.2</td>\n",
       "      <td>...</td>\n",
       "      <td>0</td>\n",
       "      <td>16</td>\n",
       "      <td>9.3</td>\n",
       "      <td>0</td>\n",
       "      <td></td>\n",
       "      <td>2.5</td>\n",
       "      <td>3.5</td>\n",
       "      <td></td>\n",
       "      <td></td>\n",
       "      <td></td>\n",
       "    </tr>\n",
       "    <tr>\n",
       "      <th>2</th>\n",
       "      <td>1945-09-03</td>\n",
       "      <td>0</td>\n",
       "      <td>23.3</td>\n",
       "      <td>0</td>\n",
       "      <td>11.8</td>\n",
       "      <td>0</td>\n",
       "      <td>9.6</td>\n",
       "      <td>3</td>\n",
       "      <td>0.0</td>\n",
       "      <td>1021.2</td>\n",
       "      <td>...</td>\n",
       "      <td>0</td>\n",
       "      <td>12</td>\n",
       "      <td>11.4</td>\n",
       "      <td>0</td>\n",
       "      <td></td>\n",
       "      <td>2.9</td>\n",
       "      <td>3.9</td>\n",
       "      <td></td>\n",
       "      <td></td>\n",
       "      <td></td>\n",
       "    </tr>\n",
       "    <tr>\n",
       "      <th>3</th>\n",
       "      <td>1945-09-04</td>\n",
       "      <td>0</td>\n",
       "      <td>21.6</td>\n",
       "      <td>0</td>\n",
       "      <td>9.4</td>\n",
       "      <td>0</td>\n",
       "      <td>6.7</td>\n",
       "      <td>3</td>\n",
       "      <td>0.0</td>\n",
       "      <td>1024.2</td>\n",
       "      <td>...</td>\n",
       "      <td>0</td>\n",
       "      <td>18</td>\n",
       "      <td>5.3</td>\n",
       "      <td>0</td>\n",
       "      <td></td>\n",
       "      <td>2.0</td>\n",
       "      <td>2.7</td>\n",
       "      <td></td>\n",
       "      <td></td>\n",
       "      <td></td>\n",
       "    </tr>\n",
       "    <tr>\n",
       "      <th>4</th>\n",
       "      <td>1945-09-05</td>\n",
       "      <td>0</td>\n",
       "      <td>21.3</td>\n",
       "      <td>0</td>\n",
       "      <td>12.2</td>\n",
       "      <td>0</td>\n",
       "      <td>11.3</td>\n",
       "      <td>3</td>\n",
       "      <td>0.0</td>\n",
       "      <td>1024.9</td>\n",
       "      <td>...</td>\n",
       "      <td>0</td>\n",
       "      <td>13</td>\n",
       "      <td>3.6</td>\n",
       "      <td>0</td>\n",
       "      <td></td>\n",
       "      <td>1.8</td>\n",
       "      <td>2.4</td>\n",
       "      <td></td>\n",
       "      <td></td>\n",
       "      <td></td>\n",
       "    </tr>\n",
       "  </tbody>\n",
       "</table>\n",
       "<p>5 rows × 25 columns</p>\n",
       "</div>"
      ],
      "text/plain": [
       "        date  ind  maxtp  ind.1  mintp igmin  gmin  ind.2  rain     cbl  ...  \\\n",
       "0 1945-09-01    0   19.2      0   14.4     0  13.6      0   0.2  1013.8  ...   \n",
       "1 1945-09-02    0   20.7      0   14.8     0  13.4      3   0.0  1018.2  ...   \n",
       "2 1945-09-03    0   23.3      0   11.8     0   9.6      3   0.0  1021.2  ...   \n",
       "3 1945-09-04    0   21.6      0    9.4     0   6.7      3   0.0  1024.2  ...   \n",
       "4 1945-09-05    0   21.3      0   12.2     0  11.3      3   0.0  1024.9  ...   \n",
       "\n",
       "   ind.5  hg   sun  dos  soil   pe  evap  smd_wd smd_md smd_pd  \n",
       "0      0  27   1.6    0        1.6   2.3                        \n",
       "1      0  16   9.3    0        2.5   3.5                        \n",
       "2      0  12  11.4    0        2.9   3.9                        \n",
       "3      0  18   5.3    0        2.0   2.7                        \n",
       "4      0  13   3.6    0        1.8   2.4                        \n",
       "\n",
       "[5 rows x 25 columns]"
      ]
     },
     "execution_count": 26,
     "metadata": {},
     "output_type": "execute_result"
    }
   ],
   "source": [
    "dat.head()"
   ]
  },
  {
   "cell_type": "code",
   "execution_count": 27,
   "metadata": {},
   "outputs": [],
   "source": [
    "# keep only min and max air temps\n",
    "dat = dat[[\"date\", \"maxtp\", \"mintp\"]]"
   ]
  },
  {
   "cell_type": "code",
   "execution_count": 28,
   "metadata": {},
   "outputs": [],
   "source": [
    "# filter data for 1954 - 1968\n",
    "dat = dat[(dat[\"date\"].dt.year >= 1954) & (dat[\"date\"].dt.year <= 1968)]"
   ]
  },
  {
   "cell_type": "code",
   "execution_count": 29,
   "metadata": {},
   "outputs": [
    {
     "data": {
      "text/html": [
       "<div>\n",
       "<style scoped>\n",
       "    .dataframe tbody tr th:only-of-type {\n",
       "        vertical-align: middle;\n",
       "    }\n",
       "\n",
       "    .dataframe tbody tr th {\n",
       "        vertical-align: top;\n",
       "    }\n",
       "\n",
       "    .dataframe thead th {\n",
       "        text-align: right;\n",
       "    }\n",
       "</style>\n",
       "<table border=\"1\" class=\"dataframe\">\n",
       "  <thead>\n",
       "    <tr style=\"text-align: right;\">\n",
       "      <th></th>\n",
       "      <th>date</th>\n",
       "      <th>maxtp</th>\n",
       "      <th>mintp</th>\n",
       "    </tr>\n",
       "  </thead>\n",
       "  <tbody>\n",
       "    <tr>\n",
       "      <th>3044</th>\n",
       "      <td>1954-01-01</td>\n",
       "      <td>4.6</td>\n",
       "      <td>-5.1</td>\n",
       "    </tr>\n",
       "    <tr>\n",
       "      <th>3045</th>\n",
       "      <td>1954-01-02</td>\n",
       "      <td>9.9</td>\n",
       "      <td>2.2</td>\n",
       "    </tr>\n",
       "    <tr>\n",
       "      <th>3046</th>\n",
       "      <td>1954-01-03</td>\n",
       "      <td>9.3</td>\n",
       "      <td>0.5</td>\n",
       "    </tr>\n",
       "    <tr>\n",
       "      <th>3047</th>\n",
       "      <td>1954-01-04</td>\n",
       "      <td>4.4</td>\n",
       "      <td>-3.1</td>\n",
       "    </tr>\n",
       "    <tr>\n",
       "      <th>3048</th>\n",
       "      <td>1954-01-05</td>\n",
       "      <td>2.3</td>\n",
       "      <td>-3.2</td>\n",
       "    </tr>\n",
       "  </tbody>\n",
       "</table>\n",
       "</div>"
      ],
      "text/plain": [
       "           date  maxtp  mintp\n",
       "3044 1954-01-01    4.6   -5.1\n",
       "3045 1954-01-02    9.9    2.2\n",
       "3046 1954-01-03    9.3    0.5\n",
       "3047 1954-01-04    4.4   -3.1\n",
       "3048 1954-01-05    2.3   -3.2"
      ]
     },
     "execution_count": 29,
     "metadata": {},
     "output_type": "execute_result"
    }
   ],
   "source": [
    "dat.head()"
   ]
  },
  {
   "cell_type": "code",
   "execution_count": 30,
   "metadata": {},
   "outputs": [],
   "source": [
    "# calculate mean air temperature\n",
    "dat[\"meantp\"] = dat[[\"maxtp\", \"mintp\"]].mean(axis=1)"
   ]
  },
  {
   "cell_type": "code",
   "execution_count": 31,
   "metadata": {},
   "outputs": [],
   "source": [
    "# keep only mean and date columns\n",
    "dat = dat[[\"date\", \"meantp\"]]"
   ]
  },
  {
   "cell_type": "code",
   "execution_count": 32,
   "metadata": {},
   "outputs": [],
   "source": [
    "# return only mean values above 4, and subtract by 4\n",
    "dat.loc[(dat[\"meantp\"] >= 4.0), \"tgrowth\"] = dat[\"meantp\"] - 4.0"
   ]
  },
  {
   "cell_type": "code",
   "execution_count": 33,
   "metadata": {},
   "outputs": [
    {
     "data": {
      "text/html": [
       "<div>\n",
       "<style scoped>\n",
       "    .dataframe tbody tr th:only-of-type {\n",
       "        vertical-align: middle;\n",
       "    }\n",
       "\n",
       "    .dataframe tbody tr th {\n",
       "        vertical-align: top;\n",
       "    }\n",
       "\n",
       "    .dataframe thead th {\n",
       "        text-align: right;\n",
       "    }\n",
       "</style>\n",
       "<table border=\"1\" class=\"dataframe\">\n",
       "  <thead>\n",
       "    <tr style=\"text-align: right;\">\n",
       "      <th></th>\n",
       "      <th>date</th>\n",
       "      <th>meantp</th>\n",
       "      <th>tgrowth</th>\n",
       "    </tr>\n",
       "  </thead>\n",
       "  <tbody>\n",
       "    <tr>\n",
       "      <th>3044</th>\n",
       "      <td>1954-01-01</td>\n",
       "      <td>-0.25</td>\n",
       "      <td>NaN</td>\n",
       "    </tr>\n",
       "    <tr>\n",
       "      <th>3045</th>\n",
       "      <td>1954-01-02</td>\n",
       "      <td>6.05</td>\n",
       "      <td>2.05</td>\n",
       "    </tr>\n",
       "    <tr>\n",
       "      <th>3046</th>\n",
       "      <td>1954-01-03</td>\n",
       "      <td>4.90</td>\n",
       "      <td>0.90</td>\n",
       "    </tr>\n",
       "    <tr>\n",
       "      <th>3047</th>\n",
       "      <td>1954-01-04</td>\n",
       "      <td>0.65</td>\n",
       "      <td>NaN</td>\n",
       "    </tr>\n",
       "    <tr>\n",
       "      <th>3048</th>\n",
       "      <td>1954-01-05</td>\n",
       "      <td>-0.45</td>\n",
       "      <td>NaN</td>\n",
       "    </tr>\n",
       "  </tbody>\n",
       "</table>\n",
       "</div>"
      ],
      "text/plain": [
       "           date  meantp  tgrowth\n",
       "3044 1954-01-01   -0.25      NaN\n",
       "3045 1954-01-02    6.05     2.05\n",
       "3046 1954-01-03    4.90     0.90\n",
       "3047 1954-01-04    0.65      NaN\n",
       "3048 1954-01-05   -0.45      NaN"
      ]
     },
     "execution_count": 33,
     "metadata": {},
     "output_type": "execute_result"
    }
   ],
   "source": [
    "dat.head()"
   ]
  },
  {
   "cell_type": "code",
   "execution_count": 34,
   "metadata": {},
   "outputs": [],
   "source": [
    "# extract data to determine beginning of growing season\n",
    "st_1 = {}\n",
    "for y in dat[\"date\"].dt.year.unique():\n",
    "    st_1[y] = dat[\n",
    "        (dat[\"date\"] >= f\"{y}-01-01\") & (dat[\"date\"] <= f\"{y}-03-06\")\n",
    "    ]"
   ]
  },
  {
   "cell_type": "code",
   "execution_count": 35,
   "metadata": {},
   "outputs": [],
   "source": [
    "# extract data to determine end of growing season\n",
    "st_2 = {}\n",
    "for y in dat[\"date\"].dt.year.unique():\n",
    "    st_2[y] = dat[\n",
    "        (dat[\"date\"] >= f\"{y}-01-01\") & (dat[\"date\"] <= f\"{y}-12-08\")\n",
    "    ]"
   ]
  },
  {
   "cell_type": "code",
   "execution_count": 36,
   "metadata": {},
   "outputs": [],
   "source": [
    "# sum of temperatures at the beginning\n",
    "st_1_list = []\n",
    "for y in st_1.keys():\n",
    "    st_1_list.append(list(st_1[y][\"tgrowth\"].cumsum())[-1])\n",
    "# remove NaN\n",
    "st_1_list = [n for n in st_1_list if str(n) != \"nan\"]"
   ]
  },
  {
   "cell_type": "code",
   "execution_count": 37,
   "metadata": {},
   "outputs": [],
   "source": [
    "# sum of temperatures at the end\n",
    "st_2_list = []\n",
    "for y in st_2.keys():\n",
    "    st_2_list.append(list(st_2[y][\"tgrowth\"].cumsum())[-1])\n",
    "# remove NaN\n",
    "st_2_list = [n for n in st_2_list if str(n) != \"nan\"]"
   ]
  },
  {
   "cell_type": "code",
   "execution_count": 38,
   "metadata": {},
   "outputs": [
    {
     "data": {
      "text/plain": [
       "[126.6,\n",
       " 102.84999999999998,\n",
       " 174.09999999999997,\n",
       " 173.40000000000006,\n",
       " 150.5,\n",
       " 119.34999999999998,\n",
       " 208.50000000000006,\n",
       " 40.699999999999996,\n",
       " 207.5,\n",
       " 162.85,\n",
       " 111.35000000000001]"
      ]
     },
     "execution_count": 38,
     "metadata": {},
     "output_type": "execute_result"
    }
   ],
   "source": [
    "st_1_list"
   ]
  },
  {
   "cell_type": "code",
   "execution_count": 39,
   "metadata": {},
   "outputs": [
    {
     "data": {
      "text/plain": [
       "[2234.2000000000007,\n",
       " 2177.049999999999,\n",
       " 2369.900000000001,\n",
       " 2259.099999999999,\n",
       " 2456.3500000000004,\n",
       " 2241.8500000000013,\n",
       " 2010.2500000000005,\n",
       " 2034.9500000000003,\n",
       " 2293.250000000002,\n",
       " 2077.7499999999986,\n",
       " 2203.8500000000017]"
      ]
     },
     "execution_count": 39,
     "metadata": {},
     "output_type": "execute_result"
    }
   ],
   "source": [
    "st_2_list"
   ]
  },
  {
   "cell_type": "code",
   "execution_count": 40,
   "metadata": {},
   "outputs": [
    {
     "data": {
      "text/plain": [
       "143.4272727272727"
      ]
     },
     "execution_count": 40,
     "metadata": {},
     "output_type": "execute_result"
    }
   ],
   "source": [
    "np.mean(st_1_list)"
   ]
  },
  {
   "cell_type": "code",
   "execution_count": 41,
   "metadata": {},
   "outputs": [
    {
     "data": {
      "text/plain": [
       "2214.4090909090914"
      ]
     },
     "execution_count": 41,
     "metadata": {},
     "output_type": "execute_result"
    }
   ],
   "source": [
    "np.mean(st_2_list)"
   ]
  },
  {
   "cell_type": "markdown",
   "metadata": {},
   "source": [
    "## Rosslare, Co. Wexford\n",
    "\n",
    "<https://data.gov.ie/dataset/rosslare-daily-data>"
   ]
  },
  {
   "cell_type": "code",
   "execution_count": 42,
   "metadata": {},
   "outputs": [],
   "source": [
    "URL = \"https://cli.fusio.net/cli/climate_data/webdatac/dly2615.csv\"\n",
    "SUB_DIR = os.path.join(DATA_DRIVE, \"MetEireann\")\n",
    "KNOWN_HASH = \"e37a2f84e4172329cd178fc7bddb9720ca559c5c0777bf87cd2b5a42af62c226\"\n",
    "os.makedirs(SUB_DIR, exist_ok=True)\n",
    "FILE_NAME = \"dly2615.csv\""
   ]
  },
  {
   "cell_type": "code",
   "execution_count": 43,
   "metadata": {},
   "outputs": [
    {
     "data": {
      "text/plain": [
       "'/run/media/nms/Backup/Documents/Git/ClimAg/ClimAg/data/MetEireann/dly2615.csv'"
      ]
     },
     "execution_count": 43,
     "metadata": {},
     "output_type": "execute_result"
    }
   ],
   "source": [
    "pooch.retrieve(url=URL, known_hash=KNOWN_HASH, fname=FILE_NAME, path=SUB_DIR)"
   ]
  },
  {
   "cell_type": "code",
   "execution_count": 44,
   "metadata": {},
   "outputs": [],
   "source": [
    "dat = pd.read_csv(\n",
    "    os.path.join(SUB_DIR, FILE_NAME),\n",
    "    skiprows=17,\n",
    "    skipfooter=1,\n",
    "    parse_dates=[\"date\"],\n",
    "    engine=\"python\",\n",
    ")"
   ]
  },
  {
   "cell_type": "code",
   "execution_count": 45,
   "metadata": {},
   "outputs": [
    {
     "data": {
      "text/html": [
       "<div>\n",
       "<style scoped>\n",
       "    .dataframe tbody tr th:only-of-type {\n",
       "        vertical-align: middle;\n",
       "    }\n",
       "\n",
       "    .dataframe tbody tr th {\n",
       "        vertical-align: top;\n",
       "    }\n",
       "\n",
       "    .dataframe thead th {\n",
       "        text-align: right;\n",
       "    }\n",
       "</style>\n",
       "<table border=\"1\" class=\"dataframe\">\n",
       "  <thead>\n",
       "    <tr style=\"text-align: right;\">\n",
       "      <th></th>\n",
       "      <th>date</th>\n",
       "      <th>ind</th>\n",
       "      <th>maxtp</th>\n",
       "      <th>ind.1</th>\n",
       "      <th>mintp</th>\n",
       "      <th>igmin</th>\n",
       "      <th>gmin</th>\n",
       "      <th>ind.2</th>\n",
       "      <th>rain</th>\n",
       "      <th>cbl</th>\n",
       "      <th>...</th>\n",
       "      <th>ddhm</th>\n",
       "      <th>ind.5</th>\n",
       "      <th>hg</th>\n",
       "      <th>soil</th>\n",
       "      <th>pe</th>\n",
       "      <th>evap</th>\n",
       "      <th>smd_wd</th>\n",
       "      <th>smd_md</th>\n",
       "      <th>smd_pd</th>\n",
       "      <th>glorad</th>\n",
       "    </tr>\n",
       "  </thead>\n",
       "  <tbody>\n",
       "    <tr>\n",
       "      <th>0</th>\n",
       "      <td>1956-12-01</td>\n",
       "      <td>0</td>\n",
       "      <td>10.0</td>\n",
       "      <td>0</td>\n",
       "      <td>6.6</td>\n",
       "      <td>0</td>\n",
       "      <td>4.7</td>\n",
       "      <td>3</td>\n",
       "      <td>0.0</td>\n",
       "      <td>1023.6</td>\n",
       "      <td>...</td>\n",
       "      <td>230</td>\n",
       "      <td>0</td>\n",
       "      <td>18</td>\n",
       "      <td>7.800</td>\n",
       "      <td>0.3</td>\n",
       "      <td>0.4</td>\n",
       "      <td></td>\n",
       "      <td></td>\n",
       "      <td></td>\n",
       "      <td></td>\n",
       "    </tr>\n",
       "    <tr>\n",
       "      <th>1</th>\n",
       "      <td>1956-12-02</td>\n",
       "      <td>0</td>\n",
       "      <td>13.4</td>\n",
       "      <td>0</td>\n",
       "      <td>7.9</td>\n",
       "      <td>0</td>\n",
       "      <td>4.6</td>\n",
       "      <td>2</td>\n",
       "      <td>0.0</td>\n",
       "      <td>1027.4</td>\n",
       "      <td>...</td>\n",
       "      <td>250</td>\n",
       "      <td>0</td>\n",
       "      <td>26</td>\n",
       "      <td>8.700</td>\n",
       "      <td>0.5</td>\n",
       "      <td>0.6</td>\n",
       "      <td></td>\n",
       "      <td></td>\n",
       "      <td></td>\n",
       "      <td></td>\n",
       "    </tr>\n",
       "    <tr>\n",
       "      <th>2</th>\n",
       "      <td>1956-12-03</td>\n",
       "      <td>0</td>\n",
       "      <td>12.2</td>\n",
       "      <td>0</td>\n",
       "      <td>8.4</td>\n",
       "      <td>0</td>\n",
       "      <td>7.8</td>\n",
       "      <td>2</td>\n",
       "      <td>0.0</td>\n",
       "      <td>1029.4</td>\n",
       "      <td>...</td>\n",
       "      <td>260</td>\n",
       "      <td>0</td>\n",
       "      <td>20</td>\n",
       "      <td>9.425</td>\n",
       "      <td>0.4</td>\n",
       "      <td>0.5</td>\n",
       "      <td></td>\n",
       "      <td></td>\n",
       "      <td></td>\n",
       "      <td></td>\n",
       "    </tr>\n",
       "    <tr>\n",
       "      <th>3</th>\n",
       "      <td>1956-12-04</td>\n",
       "      <td>0</td>\n",
       "      <td>11.2</td>\n",
       "      <td>0</td>\n",
       "      <td>9.2</td>\n",
       "      <td>0</td>\n",
       "      <td>6.9</td>\n",
       "      <td>0</td>\n",
       "      <td>0.0</td>\n",
       "      <td>1024.7</td>\n",
       "      <td>...</td>\n",
       "      <td>240</td>\n",
       "      <td>0</td>\n",
       "      <td>30</td>\n",
       "      <td>9.400</td>\n",
       "      <td>0.4</td>\n",
       "      <td>0.6</td>\n",
       "      <td></td>\n",
       "      <td></td>\n",
       "      <td></td>\n",
       "      <td></td>\n",
       "    </tr>\n",
       "    <tr>\n",
       "      <th>4</th>\n",
       "      <td>1956-12-05</td>\n",
       "      <td>0</td>\n",
       "      <td>12.8</td>\n",
       "      <td>0</td>\n",
       "      <td>9.5</td>\n",
       "      <td>0</td>\n",
       "      <td>8.0</td>\n",
       "      <td>0</td>\n",
       "      <td>0.3</td>\n",
       "      <td>1017.4</td>\n",
       "      <td>...</td>\n",
       "      <td>230</td>\n",
       "      <td>0</td>\n",
       "      <td>42</td>\n",
       "      <td>9.900</td>\n",
       "      <td>0.7</td>\n",
       "      <td>0.9</td>\n",
       "      <td></td>\n",
       "      <td></td>\n",
       "      <td></td>\n",
       "      <td></td>\n",
       "    </tr>\n",
       "  </tbody>\n",
       "</table>\n",
       "<p>5 rows × 24 columns</p>\n",
       "</div>"
      ],
      "text/plain": [
       "        date  ind  maxtp  ind.1  mintp igmin gmin  ind.2  rain     cbl  ...  \\\n",
       "0 1956-12-01    0   10.0      0    6.6     0  4.7      3   0.0  1023.6  ...   \n",
       "1 1956-12-02    0   13.4      0    7.9     0  4.6      2   0.0  1027.4  ...   \n",
       "2 1956-12-03    0   12.2      0    8.4     0  7.8      2   0.0  1029.4  ...   \n",
       "3 1956-12-04    0   11.2      0    9.2     0  6.9      0   0.0  1024.7  ...   \n",
       "4 1956-12-05    0   12.8      0    9.5     0  8.0      0   0.3  1017.4  ...   \n",
       "\n",
       "  ddhm  ind.5  hg   soil   pe  evap smd_wd smd_md smd_pd glorad  \n",
       "0  230      0  18  7.800  0.3   0.4                              \n",
       "1  250      0  26  8.700  0.5   0.6                              \n",
       "2  260      0  20  9.425  0.4   0.5                              \n",
       "3  240      0  30  9.400  0.4   0.6                              \n",
       "4  230      0  42  9.900  0.7   0.9                              \n",
       "\n",
       "[5 rows x 24 columns]"
      ]
     },
     "execution_count": 45,
     "metadata": {},
     "output_type": "execute_result"
    }
   ],
   "source": [
    "dat.head()"
   ]
  },
  {
   "cell_type": "code",
   "execution_count": 46,
   "metadata": {},
   "outputs": [],
   "source": [
    "# keep only min and max air temps\n",
    "dat = dat[[\"date\", \"maxtp\", \"mintp\"]]"
   ]
  },
  {
   "cell_type": "code",
   "execution_count": 47,
   "metadata": {},
   "outputs": [],
   "source": [
    "# filter data for 1954 - 1968\n",
    "dat = dat[(dat[\"date\"].dt.year >= 1954) & (dat[\"date\"].dt.year <= 1968)]"
   ]
  },
  {
   "cell_type": "code",
   "execution_count": 48,
   "metadata": {},
   "outputs": [
    {
     "data": {
      "text/html": [
       "<div>\n",
       "<style scoped>\n",
       "    .dataframe tbody tr th:only-of-type {\n",
       "        vertical-align: middle;\n",
       "    }\n",
       "\n",
       "    .dataframe tbody tr th {\n",
       "        vertical-align: top;\n",
       "    }\n",
       "\n",
       "    .dataframe thead th {\n",
       "        text-align: right;\n",
       "    }\n",
       "</style>\n",
       "<table border=\"1\" class=\"dataframe\">\n",
       "  <thead>\n",
       "    <tr style=\"text-align: right;\">\n",
       "      <th></th>\n",
       "      <th>date</th>\n",
       "      <th>maxtp</th>\n",
       "      <th>mintp</th>\n",
       "    </tr>\n",
       "  </thead>\n",
       "  <tbody>\n",
       "    <tr>\n",
       "      <th>4409</th>\n",
       "      <td>1968-12-27</td>\n",
       "      <td>3.8</td>\n",
       "      <td>0.9</td>\n",
       "    </tr>\n",
       "    <tr>\n",
       "      <th>4410</th>\n",
       "      <td>1968-12-28</td>\n",
       "      <td>3.0</td>\n",
       "      <td>0.6</td>\n",
       "    </tr>\n",
       "    <tr>\n",
       "      <th>4411</th>\n",
       "      <td>1968-12-29</td>\n",
       "      <td>3.6</td>\n",
       "      <td>0.0</td>\n",
       "    </tr>\n",
       "    <tr>\n",
       "      <th>4412</th>\n",
       "      <td>1968-12-30</td>\n",
       "      <td>3.9</td>\n",
       "      <td>1.3</td>\n",
       "    </tr>\n",
       "    <tr>\n",
       "      <th>4413</th>\n",
       "      <td>1968-12-31</td>\n",
       "      <td>5.9</td>\n",
       "      <td>2.3</td>\n",
       "    </tr>\n",
       "  </tbody>\n",
       "</table>\n",
       "</div>"
      ],
      "text/plain": [
       "           date  maxtp  mintp\n",
       "4409 1968-12-27    3.8    0.9\n",
       "4410 1968-12-28    3.0    0.6\n",
       "4411 1968-12-29    3.6    0.0\n",
       "4412 1968-12-30    3.9    1.3\n",
       "4413 1968-12-31    5.9    2.3"
      ]
     },
     "execution_count": 48,
     "metadata": {},
     "output_type": "execute_result"
    }
   ],
   "source": [
    "dat.tail()"
   ]
  },
  {
   "cell_type": "code",
   "execution_count": 49,
   "metadata": {},
   "outputs": [],
   "source": [
    "# calculate mean air temperature\n",
    "dat[\"meantp\"] = dat[[\"maxtp\", \"mintp\"]].mean(axis=1)"
   ]
  },
  {
   "cell_type": "code",
   "execution_count": 50,
   "metadata": {},
   "outputs": [],
   "source": [
    "# keep only mean and date columns\n",
    "dat = dat[[\"date\", \"meantp\"]]"
   ]
  },
  {
   "cell_type": "code",
   "execution_count": 51,
   "metadata": {},
   "outputs": [],
   "source": [
    "# return only mean values above 4, and subtract by 4\n",
    "dat.loc[(dat[\"meantp\"] >= 4.0), \"tgrowth\"] = dat[\"meantp\"] - 4.0"
   ]
  },
  {
   "cell_type": "code",
   "execution_count": 52,
   "metadata": {},
   "outputs": [
    {
     "data": {
      "text/html": [
       "<div>\n",
       "<style scoped>\n",
       "    .dataframe tbody tr th:only-of-type {\n",
       "        vertical-align: middle;\n",
       "    }\n",
       "\n",
       "    .dataframe tbody tr th {\n",
       "        vertical-align: top;\n",
       "    }\n",
       "\n",
       "    .dataframe thead th {\n",
       "        text-align: right;\n",
       "    }\n",
       "</style>\n",
       "<table border=\"1\" class=\"dataframe\">\n",
       "  <thead>\n",
       "    <tr style=\"text-align: right;\">\n",
       "      <th></th>\n",
       "      <th>date</th>\n",
       "      <th>meantp</th>\n",
       "      <th>tgrowth</th>\n",
       "    </tr>\n",
       "  </thead>\n",
       "  <tbody>\n",
       "    <tr>\n",
       "      <th>0</th>\n",
       "      <td>1956-12-01</td>\n",
       "      <td>8.30</td>\n",
       "      <td>4.30</td>\n",
       "    </tr>\n",
       "    <tr>\n",
       "      <th>1</th>\n",
       "      <td>1956-12-02</td>\n",
       "      <td>10.65</td>\n",
       "      <td>6.65</td>\n",
       "    </tr>\n",
       "    <tr>\n",
       "      <th>2</th>\n",
       "      <td>1956-12-03</td>\n",
       "      <td>10.30</td>\n",
       "      <td>6.30</td>\n",
       "    </tr>\n",
       "    <tr>\n",
       "      <th>3</th>\n",
       "      <td>1956-12-04</td>\n",
       "      <td>10.20</td>\n",
       "      <td>6.20</td>\n",
       "    </tr>\n",
       "    <tr>\n",
       "      <th>4</th>\n",
       "      <td>1956-12-05</td>\n",
       "      <td>11.15</td>\n",
       "      <td>7.15</td>\n",
       "    </tr>\n",
       "  </tbody>\n",
       "</table>\n",
       "</div>"
      ],
      "text/plain": [
       "        date  meantp  tgrowth\n",
       "0 1956-12-01    8.30     4.30\n",
       "1 1956-12-02   10.65     6.65\n",
       "2 1956-12-03   10.30     6.30\n",
       "3 1956-12-04   10.20     6.20\n",
       "4 1956-12-05   11.15     7.15"
      ]
     },
     "execution_count": 52,
     "metadata": {},
     "output_type": "execute_result"
    }
   ],
   "source": [
    "dat.head()"
   ]
  },
  {
   "cell_type": "code",
   "execution_count": 53,
   "metadata": {},
   "outputs": [],
   "source": [
    "# extract data to determine beginning of growing season\n",
    "st_1 = {}\n",
    "for y in dat[\"date\"].dt.year.unique():\n",
    "    if y > 1956:\n",
    "        st_1[y] = dat[\n",
    "            (dat[\"date\"] >= f\"{y}-01-01\") & (dat[\"date\"] <= f\"{y}-02-28\")\n",
    "        ]"
   ]
  },
  {
   "cell_type": "code",
   "execution_count": 54,
   "metadata": {},
   "outputs": [],
   "source": [
    "# extract data to determine end of growing season\n",
    "st_2 = {}\n",
    "for y in dat[\"date\"].dt.year.unique():\n",
    "    if y > 1956:\n",
    "        st_2[y] = dat[\n",
    "            (dat[\"date\"] >= f\"{y}-01-01\") & (dat[\"date\"] <= f\"{y}-12-19\")\n",
    "        ]"
   ]
  },
  {
   "cell_type": "code",
   "execution_count": 55,
   "metadata": {},
   "outputs": [],
   "source": [
    "# sum of temperatures at the beginning\n",
    "st_1_list = []\n",
    "for y in st_1.keys():\n",
    "    st_1_list.append(list(st_1[y][\"tgrowth\"].cumsum())[-1])\n",
    "# remove NaN\n",
    "st_1_list = [n for n in st_1_list if str(n) != \"nan\"]"
   ]
  },
  {
   "cell_type": "code",
   "execution_count": 56,
   "metadata": {},
   "outputs": [],
   "source": [
    "# sum of temperatures at the end\n",
    "st_2_list = []\n",
    "for y in st_2.keys():\n",
    "    st_2_list.append(list(st_2[y][\"tgrowth\"].cumsum())[-1])\n",
    "# remove NaN\n",
    "st_2_list = [n for n in st_2_list if str(n) != \"nan\"]"
   ]
  },
  {
   "cell_type": "code",
   "execution_count": 57,
   "metadata": {},
   "outputs": [
    {
     "data": {
      "text/plain": [
       "[171.20000000000002,\n",
       " 169.80000000000007,\n",
       " 144.75,\n",
       " 120.0,\n",
       " 171.59999999999994,\n",
       " 8.350000000000001,\n",
       " 153.79999999999998,\n",
       " 174.75000000000003,\n",
       " 151.15,\n",
       " 101.50000000000001]"
      ]
     },
     "execution_count": 57,
     "metadata": {},
     "output_type": "execute_result"
    }
   ],
   "source": [
    "st_1_list"
   ]
  },
  {
   "cell_type": "code",
   "execution_count": 58,
   "metadata": {},
   "outputs": [
    {
     "data": {
      "text/plain": [
       "[2374.0,\n",
       " 2250.349999999999,\n",
       " 2559.1499999999996,\n",
       " 2373.5499999999984,\n",
       " 2044.4499999999998,\n",
       " 2289.1500000000005,\n",
       " 2059.1499999999983,\n",
       " 2248.8000000000006,\n",
       " 2131.950000000001,\n",
       " 2242.5000000000014]"
      ]
     },
     "execution_count": 58,
     "metadata": {},
     "output_type": "execute_result"
    }
   ],
   "source": [
    "st_2_list"
   ]
  },
  {
   "cell_type": "code",
   "execution_count": 59,
   "metadata": {},
   "outputs": [
    {
     "data": {
      "text/plain": [
       "136.69"
      ]
     },
     "execution_count": 59,
     "metadata": {},
     "output_type": "execute_result"
    }
   ],
   "source": [
    "np.mean(st_1_list)"
   ]
  },
  {
   "cell_type": "code",
   "execution_count": 60,
   "metadata": {},
   "outputs": [
    {
     "data": {
      "text/plain": [
       "2257.3049999999994"
      ]
     },
     "execution_count": 60,
     "metadata": {},
     "output_type": "execute_result"
    }
   ],
   "source": [
    "np.mean(st_2_list)"
   ]
  }
 ],
 "metadata": {
  "kernelspec": {
   "display_name": "Python 3.10.6 ('ClimAg')",
   "language": "python",
   "name": "python3"
  },
  "language_info": {
   "codemirror_mode": {
    "name": "ipython",
    "version": 3
   },
   "file_extension": ".py",
   "mimetype": "text/x-python",
   "name": "python",
   "nbconvert_exporter": "python",
   "pygments_lexer": "ipython3",
   "version": "3.10.6 | packaged by conda-forge | (main, Aug 22 2022, 20:35:26) [GCC 10.4.0]"
  },
  "vscode": {
   "interpreter": {
    "hash": "c4e659d1bedfc73d1fd31d7c0e2c79d7cc7aac22204994016c65a9e44686eb91"
   }
  }
 },
 "nbformat": 4,
 "nbformat_minor": 2
}
